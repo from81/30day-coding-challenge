{
 "cells": [
  {
   "cell_type": "code",
   "execution_count": 1,
   "metadata": {},
   "outputs": [],
   "source": [
    "from collections import *\n",
    "import os\n",
    "from pprint import pprint\n",
    "import random\n",
    "import sys\n",
    "import time\n",
    "from typing import *\n",
    "sys.path.append(os.path.join(os.getcwd(), 'algorithms'))\n",
    "\n",
    "import numpy as np\n",
    "import networkx as nx\n",
    "import matplotlib.pyplot as plt\n",
    "import pandas as pd\n",
    "import plotly.express as px\n",
    "import seaborn as sns\n",
    "%matplotlib inline"
   ]
  },
  {
   "cell_type": "markdown",
   "metadata": {},
   "source": [
    "# Asymptotic Analysis"
   ]
  },
  {
   "cell_type": "markdown",
   "metadata": {},
   "source": [
    "If $f$, $g$ are functions, then informally\n",
    " \n",
    "- $f = O(g)$ Worst-Case (Upper-bound)\n",
    "    - if eventually $f$ grows slower than some multiple of g\n",
    "- $f = \\omega(g)$ Best-Case (Lower-bound)\n",
    "    - if eventually $f$ grows faster than some multiple of g\n",
    "- $f = \\theta(g)$ Tight-bound\n",
    "    - if eventually $f$ grows at the same rate as g"
   ]
  },
  {
   "cell_type": "markdown",
   "metadata": {},
   "source": [
    "## Time Complexity"
   ]
  },
  {
   "cell_type": "markdown",
   "metadata": {},
   "source": [
    "- $O(1)$: Constant-time algorithm runs in a constant time no matter how large the input is. For example, checking whether the first byte of a file is null `(0x00)` is constant time; no matter how large the file is, we only need to inspect the first byte. As another example, programs that ignore their input and compute the answer to a specific problem are also constant-time, even though this problem might take a very long time.\n",
    "- $O\\left( \\log n \\right)$: Logarithmic-time algorithm runs in time proportional to the logarithm of the input. The most common example is perhaps binary search: given a sorted array (with random access) of nn elements, we can find whether a specific item is in the array or not by using binary search, dividing the search space by half by checking the middle element.\n",
    "- $O(n)$: Linear-time algorithm runs in time proportional to the input. This can be good or bad: when $n$ is the number of elements in an array of integers, radix sorting allows us to sort it in linear-time, a very good performance, but when $n$ is a positive integer and we want to check whether it's prime, doing trial division over all numbers $2, 3, \\ldots, n-1$ is a poor performance.\n",
    "- $O(n \\log n)$: Often encountered in sorting algorithms, a linearithmic-time algorithm runs in time that's not particularly distinguishable from linear-time for \"reasonable\" input. Many comparison-based sorting algorithms (merge sort, heap sort, etc.) take linearithmic-time, because it has been proven to be the best running time possible for comparison-based sorting algorithms.\n",
    "- $O(n^2)$: Quadratic-time algorithms take time proportional to the square of the input. Example algorithms that take this time are schoolbook multiplication of two $n$-digit numbers or two polynomials of degree $n$ (faster algorithms exist, such as Karatsuba's algorithm), some slow sorting algorithms (selection sort and insertion sort), and solving the longest common subsequence problem using dynamic programming.\n",
    "- $O(n^3)$: The most common cubic-time algorithms are perhaps the running times of schoolbook matrix multiplication (again, faster algorithms exist such as Strassen's algorithm), computing determinant using Gaussian elimination (which can be done using matrix multiplication) and finding a triangle in a graph of nn vertices (which can also be done using matrix multiplication). Other than that, a cubic-time algorithm will likely have the structure of a loop through nn values inside another loop of nn values inside a third loop of nn values; the three examples above naturally give rise to this structure, but it's uncommon to see any other.\n",
    "- $O(a^n)$: For an exponential-time algorithm, increasing the input by one is enough to multiply the algorithm's running time (by $a$). Note that if $a < b$, then $a^n = o(b^n)$ (they are not asymptotically the same). An example of this is to evaluate whether a Boolean formula on nn variables can be satisfied; trying each possibility requires $2^n$ cases to be checked (multiplied by the time it takes to actually evaluate the formula).\n",
    "- $O(n!)$: A factorial-time algorithm is even slower. Such algorithms often check every permutation of an array, in which there are $n!$ of them.\n",
    "\n",
    "Poly-time: When function $f$ grows as a function of $n$\n",
    "\n",
    "- $n, n^2, log(n)$\n",
    "- Not poly-time: $2^n$"
   ]
  },
  {
   "cell_type": "markdown",
   "metadata": {},
   "source": [
    "![img](img/bigo.png)"
   ]
  },
  {
   "cell_type": "markdown",
   "metadata": {
    "collapsed": "true"
   },
   "source": [
    "# Array, Stack, Queue"
   ]
  },
  {
   "cell_type": "code",
   "execution_count": 2,
   "metadata": {},
   "outputs": [],
   "source": [
    "from collections import deque\n",
    "import heapq\n",
    "from queue import PriorityQueue"
   ]
  },
  {
   "cell_type": "code",
   "execution_count": 3,
   "metadata": {},
   "outputs": [
    {
     "name": "stdout",
     "output_type": "stream",
     "text": [
      "100\n"
     ]
    },
    {
     "data": {
      "text/plain": [
       "deque([3, 11, 4, 6, 9, 5, 2, 6, 13])"
      ]
     },
     "execution_count": 3,
     "metadata": {},
     "output_type": "execute_result"
    }
   ],
   "source": [
    "q = deque([3, 11, 4, 6, 9, 5, 2, 6, 13])\n",
    "\n",
    "q.appendleft(100)\n",
    "print(q.popleft())\n",
    "q"
   ]
  },
  {
   "cell_type": "code",
   "execution_count": 4,
   "metadata": {},
   "outputs": [
    {
     "name": "stdout",
     "output_type": "stream",
     "text": [
      "13\n",
      "11\n",
      "9\n",
      "6\n",
      "6\n"
     ]
    }
   ],
   "source": [
    "# map heap\n",
    "h = []\n",
    "for num in [3, 11, 4, 6, 9, 5, 2, 6, 13]:\n",
    "    heapq.heappush(h, -num)\n",
    "\n",
    "for i in range(5):\n",
    "    print(-heapq.heappop(h))"
   ]
  },
  {
   "cell_type": "code",
   "execution_count": 5,
   "metadata": {},
   "outputs": [
    {
     "name": "stdout",
     "output_type": "stream",
     "text": [
      "2\n",
      "3\n",
      "4\n",
      "5\n",
      "6\n"
     ]
    }
   ],
   "source": [
    "# min heap\n",
    "h = []\n",
    "for num in [3, 11, 4, 6, 9, 5, 2, 6, 13]:\n",
    "    heapq.heappush(h, num)\n",
    "\n",
    "for i in range(5):\n",
    "    print(heapq.heappop(h))"
   ]
  },
  {
   "cell_type": "code",
   "execution_count": 6,
   "metadata": {},
   "outputs": [
    {
     "name": "stdout",
     "output_type": "stream",
     "text": [
      "2\n",
      "3\n",
      "4\n",
      "5\n",
      "6\n"
     ]
    }
   ],
   "source": [
    "q = PriorityQueue()\n",
    "for num in [3, 11, 4, 6, 9, 5, 2, 6, 13]:\n",
    "    q.put(num)\n",
    "    \n",
    "for i in range(5):\n",
    "    print(q.get())"
   ]
  },
  {
   "cell_type": "markdown",
   "metadata": {},
   "source": [
    "\n",
    "# Linked List"
   ]
  },
  {
   "cell_type": "code",
   "execution_count": 7,
   "metadata": {},
   "outputs": [],
   "source": [
    "# %load algorithms/linked_list.py"
   ]
  },
  {
   "cell_type": "code",
   "execution_count": 8,
   "metadata": {},
   "outputs": [
    {
     "name": "stdout",
     "output_type": "stream",
     "text": [
      "35, 17, 98, 17, 63, 80, 27, 28, 68, 47, 97, 28, 51, 63, 30, 33, 81, 1, 80, 41\n",
      "reversed 41, 80, 1, 81, 33, 30, 63, 51, 28, 97, 47, 68, 28, 27, 80, 63, 17, 98, 17, 35\n"
     ]
    }
   ],
   "source": [
    "from algorithms.linked_list import Node, LinkedList\n",
    "\n",
    "ll = LinkedList()\n",
    "ll.insert(np.random.randint(0, 100, size=20))\n",
    "print(ll)\n",
    "ll.reverse()\n",
    "print('reversed', ll)"
   ]
  },
  {
   "cell_type": "markdown",
   "metadata": {},
   "source": [
    "## Doubly linked list"
   ]
  },
  {
   "cell_type": "code",
   "execution_count": 9,
   "metadata": {},
   "outputs": [],
   "source": [
    "# %load algorithms/doubly_linked_list.py"
   ]
  },
  {
   "cell_type": "code",
   "execution_count": 10,
   "metadata": {},
   "outputs": [
    {
     "name": "stdout",
     "output_type": "stream",
     "text": [
      "9, 53, 77, 44, 16, 12, 28, 36, 78, 44, 60, 83, 81, 11, 23, 16, 74, 69, 53, 84\n",
      "reversed 84, 53, 69, 74, 16, 23, 11, 81, 83, 60, 44, 78, 36, 28, 12, 16, 44, 77, 53, 9\n"
     ]
    }
   ],
   "source": [
    "from algorithms.doubly_linked_list import Node, DoublyLinkedList\n",
    "\n",
    "ll = DoublyLinkedList()\n",
    "ll.insert(np.random.randint(0, 100, size=20))\n",
    "print(ll)\n",
    "ll.reverse()\n",
    "print('reversed', ll)"
   ]
  },
  {
   "cell_type": "markdown",
   "metadata": {},
   "source": [
    "# Binary Search Tree"
   ]
  },
  {
   "cell_type": "code",
   "execution_count": 11,
   "metadata": {},
   "outputs": [],
   "source": [
    "# %load algorithms/binary_search_tree.py"
   ]
  },
  {
   "cell_type": "code",
   "execution_count": 12,
   "metadata": {},
   "outputs": [
    {
     "name": "stdout",
     "output_type": "stream",
     "text": [
      "3: (1: (-4: (-8: (None, -8), -2: (-4, -2)), 1), 5: (4, 6: (5: (None, 5), 8: (6, 8))))\n",
      "max: 8\n",
      "min: 1\n"
     ]
    }
   ],
   "source": [
    "from algorithms.binary_search_tree import BinarySearchTree, TreeNode\n",
    "\n",
    "nums = [3, 5, 1, 1, 4, 6, 8, 5, -4, -2, -8, 6, 8, 5, -4, -2, -8]\n",
    "tree = BinarySearchTree()\n",
    "tree.insert(nums)\n",
    "print(tree)\n",
    "print('max:', tree.get_max())\n",
    "print('min:', tree.get_min())"
   ]
  },
  {
   "cell_type": "markdown",
   "metadata": {},
   "source": [
    "# Binary Tree"
   ]
  },
  {
   "cell_type": "code",
   "execution_count": 13,
   "metadata": {},
   "outputs": [],
   "source": [
    "# %load algorithms/binary_tree.py"
   ]
  },
  {
   "cell_type": "code",
   "execution_count": 14,
   "metadata": {},
   "outputs": [
    {
     "name": "stdout",
     "output_type": "stream",
     "text": [
      "depth: 5\n",
      "tree:\n",
      "3: (5: (1: (5: (-2, -8), -4), 4: (-2, -8)), 1: (6: (6, 8), 8: (5, -4)))\n",
      "inverted tree:\n",
      "3: (1: (8: (-4, 5), 6: (8, 6)), 5: (4: (-8, -2), 1: (-4, 5: (-8, -2))))\n"
     ]
    }
   ],
   "source": [
    "from algorithms.binary_tree import BinaryTree, TreeNode, maxDepth_DFS, invertTree\n",
    "\n",
    "nums = [3, 5, 1, 1, 4, 6, 8, 5, -4, -2, -8, 6, 8, 5, -4, -2, -8]\n",
    "tree = BinaryTree()\n",
    "tree.insert(nums)\n",
    "d = maxDepth_DFS(tree.root)\n",
    "print('depth:', d)\n",
    "print('tree:')\n",
    "print(tree)\n",
    "print('inverted tree:')\n",
    "print(invertTree(tree.root))"
   ]
  },
  {
   "cell_type": "markdown",
   "metadata": {},
   "source": [
    "# Graph"
   ]
  },
  {
   "cell_type": "code",
   "execution_count": 130,
   "metadata": {},
   "outputs": [
    {
     "data": {
      "image/png": "[encoded data removed]",
      "text/plain": [
       "<Figure size 1152x864 with 1 Axes>"
      ]
     },
     "metadata": {},
     "output_type": "display_data"
    }
   ],
   "source": [
    "fig, ax = plt.subplots(figsize=(16, 12))\n",
    "\n",
    "# G = nx.Graph()\n",
    "# G.add_edge(1, 2, weight=2)\n",
    "# G.add_edge(1, 3, weight=9)\n",
    "# nx.draw(G, with_labels=True, ax=ax)\n",
    "\n",
    "G = nx.petersen_graph()\n",
    "# G = nx.tutte_graph()\n",
    "for src, dest in nx.edges(G):\n",
    "    nx.set_edge_attributes(G, values={(src, dest): random.randint(0, 30)}, name='weight')\n",
    "\n",
    "pos = nx.spring_layout(G)\n",
    "# nx.draw(G, pos=pos, with_labels=True)\n",
    "nx.draw_networkx_edges(G, pos=pos, with_labels=True)\n",
    "nx.draw_networkx_nodes(G, pos=pos, with_labels=True, node_size=450, node_color='#000000')\n",
    "nx.draw_networkx_labels(G, pos=pos, with_labels=True, font_size=16, font_color='#FFFFFF')\n",
    "\n",
    "labels = nx.get_edge_attributes(G, 'weight')\n",
    "nx.draw_networkx_edge_labels(G, pos=pos, edge_labels=labels, font_size=16)\n",
    "\n",
    "plt.draw()"
   ]
  },
  {
   "cell_type": "markdown",
   "metadata": {},
   "source": [
    "## Definitions\n",
    "\n",
    "Edges can be directed or undirected\n",
    "\n",
    "An undirected graph is connected if for every pair of nodes u and v, there is a path between u and v.\n",
    "\n",
    "- A graph is connected if and only if DFS results in a single tree.\n",
    "- In a connected graph, an edge $e$ is called a “cut edge” if its removal would disconnect the graph\n",
    "\n",
    "A graph is strongly connected if every pair of nodes is mutually reachable.\n",
    "\n",
    "A cycle is a path $v_1, v_2, \\dots, v_k$ in which $v_1 = v_k, k > 2,$ and the first $k-1$ nodes are all distinct.\n",
    "\n",
    "An undirected graph is a tree if it is connected and does not contain a cycle.\n",
    "\n",
    "- Let $G$ be an undirected graph on $n$ nodes. Any two of the following statements imply the third.\n",
    "    - $G$ is connected.\n",
    "    - $G$ does not contain a cycle.\n",
    "    - $G$ has $n-1$ edges.\n",
    "    \n",
    "### Traversal\n",
    "\n",
    "![img](img/dfs.jpg)\n",
    "\n",
    "- DFS\n",
    "    - check if path `s -> t` exists\n",
    "    - usually implemented recursively\n",
    "- BFS\n",
    "    - find shortest path\n",
    "    - implemented with a dequeue and set to keep track of visited nodes\n",
    "    \n",
    "![img](img/bfs.jpg)"
   ]
  },
  {
   "cell_type": "markdown",
   "metadata": {},
   "source": [
    "## Analysis\n",
    "\n",
    "- BFS\n",
    "    - more memory than DFS, but guaranteed to find shortest path if the graph is connected\n",
    "    - BFS runs in $O(m + n)$ or $O(2m)$ time if the graph is given by its adjacency list representation. $\\sum_{u\\in V}deg(u)$\n",
    "- DFS\n",
    "    - less memory than BFS, will not necessarily find shortest path.\n",
    "    - A graph is connected if and only if DFS results in a single tree.\n",
    "    - Running time: $O(m + n)$\n",
    "    - Subset of edges in DFS that “discover a new node” form a forest (a collection of trees)\n",
    "    - each tree in the DFS result corresponds to a connected component\n",
    "- Traverse all neighbors of a node u:\n",
    "    - Adjacency list: $O(\\text{number of neighbors}) = O(deg(u))$\n",
    "    - Adjacency matrix: $O(n)$\n",
    "- Check if u and v are connected by an edge\n",
    "    - Adjacency list: $O(\\text{number of neighbors}) = O(deg(u)) \\text{ or } O(deg(v))$\n",
    "    - Adjacency matrix: $O(1)$\n",
    "- Finding \"cut edges\"\n",
    "    1. straightforward\n",
    "        ```\n",
    "        for edge in G.edges:\n",
    "            remove edge from G\n",
    "            check if G is connected (running DFS for example)\n",
    "            \n",
    "        ``` \n",
    "        - $O(m^2)$ running time\n",
    "    2. we can do better\n",
    "        ```\n",
    "        # run DFS on graph G\n",
    "        for edge in DFStree:\n",
    "            remove edge from graph G\n",
    "            check if G is disconnected (using DFS)\n",
    "        ```\n",
    "        - $O(nm)$ running time\n",
    "- Determine if graph $G$ is strongly connected\n",
    "    - $O(m + n)$ time\n",
    "    - algo\n",
    "        1. pick any node $s$\n",
    "        2. run BFS from s in $G$\n",
    "        3. run BFS from s in $G^{rev}$, a graph with reverse orientation of every edge in $G$\n",
    "        4. return True if and only if all nodes reached in both BFS executions"
   ]
  },
  {
   "cell_type": "markdown",
   "metadata": {},
   "source": [
    "## Graph Representations\n",
    "\n",
    "\n",
    "    edges = [(0, 1), (0, 2), (0, 3), (2, 4), (1, 4)]\n",
    "\n",
    "\n",
    "### Adjacency Matrix\n",
    "\n",
    "Matrix $A\\in n \\times n$ where $A_{uv} = 1$ if $(u, v)$ is an edge, otherwise 0.\n",
    "- two representation of each edge\n",
    "- diagonally symmetric if undirected graph, assymetrix if directed graph\n",
    "- space proportional to $n^2$ or $O(|V|^2)$\n",
    "    - i.e. $|V|=$ number of nodes\n",
    "- checking if $(u, v) \\in A$ takes $\\theta(1)$ time\n",
    "- identifying all edges takes $\\theta(n^2)$\n",
    "- for directed graphs, $A_{ij}$ represent an edge going from node i to j\n",
    "\n",
    "\n",
    "    [0, 1, 1, 1, 0]\n",
    "    [1, 0, 0, 0, 1]\n",
    "    [1, 0, 0, 0, 1]\n",
    "    [1, 0, 0, 0, 0]\n",
    "    [0, 1, 1, 0, 0]\n",
    "    \n",
    "### Adjacency List\n",
    "\n",
    "Node indexed array of lists.\n",
    "- two representation of each edge\n",
    "- space proportional to $m + n$ or $O(|V|+|E|)$\n",
    "- checking if $(u, v) \\in A$ takes $O(deg(u))$ time, where $deg(u)=$ number of nodes (vertices) connected to $u$\n",
    "- identifying all edges takes $\\theta(m + n)$ time\n",
    "\n",
    "\n",
    "    0: [1, 2, 3]\n",
    "    1: [0, 4]\n",
    "    2: [0, 4]\n",
    "    3: [0]\n",
    "    4: [1, 2]"
   ]
  },
  {
   "cell_type": "code",
   "execution_count": 15,
   "metadata": {},
   "outputs": [],
   "source": [
    "# %load algorithms/graph.py"
   ]
  },
  {
   "cell_type": "code",
   "execution_count": 16,
   "metadata": {},
   "outputs": [
    {
     "name": "stdout",
     "output_type": "stream",
     "text": [
      "directed: False\n",
      "adjacency matrix\n",
      "[0, 1, 1, 1, 0]\n",
      "[1, 0, 0, 0, 1]\n",
      "[1, 0, 0, 0, 1]\n",
      "[1, 0, 0, 0, 0]\n",
      "[0, 1, 1, 0, 0]\n",
      "\n",
      "adjacency list\n",
      "0: [1, 2, 3]\n",
      "1: [0, 4]\n",
      "2: [0, 4]\n",
      "3: [0]\n",
      "4: [1, 2]\n"
     ]
    }
   ],
   "source": [
    "from algorithms.graph import Graph\n",
    "\n",
    "edges = [(0, 1), (0, 2), (0, 3), (2, 4), (1, 4)]\n",
    "directed = False\n",
    "graph = Graph.from_edges(edges, directed)\n",
    "print('directed:', directed)\n",
    "print('adjacency matrix')\n",
    "for row in graph.adjacency_matrix:\n",
    "    print(row)\n",
    "\n",
    "print('\\nadjacency list')\n",
    "adj_list = graph.get_adjacency_list()\n",
    "for i, row in enumerate(adj_list):\n",
    "    print(f'{i}: {row}')"
   ]
  },
  {
   "cell_type": "code",
   "execution_count": 17,
   "metadata": {},
   "outputs": [
    {
     "name": "stdout",
     "output_type": "stream",
     "text": [
      "directed: True\n",
      "adjacency matrix\n",
      "[0, 1, 1, 1, 0]\n",
      "[0, 0, 0, 0, 1]\n",
      "[0, 0, 0, 0, 1]\n",
      "[0, 0, 0, 0, 0]\n",
      "[0, 0, 0, 0, 0]\n",
      "\n",
      "adjacency list\n",
      "0: [1, 2, 3]\n",
      "1: [4]\n",
      "2: [4]\n",
      "3: []\n",
      "4: []\n"
     ]
    }
   ],
   "source": [
    "directed = True\n",
    "graph = Graph.from_edges(edges, directed)\n",
    "print('directed:', directed)\n",
    "print('adjacency matrix')\n",
    "for row in graph.adjacency_matrix:\n",
    "    print(row)\n",
    "\n",
    "print('\\nadjacency list')\n",
    "adj_list = graph.get_adjacency_list()\n",
    "for i, row in enumerate(adj_list):\n",
    "    print(f'{i}: {row}')"
   ]
  },
  {
   "cell_type": "markdown",
   "metadata": {},
   "source": [
    "## Directed Acyclic Graph (DAG)\n",
    "\n",
    "- A DAG is a directed graph that contains no directed cycles.\n",
    "- if $e\\in E$ and $e = (u, v)$, then `u -> v` path dependency exists (Precedence constraints)\n",
    "- if graph $G$ has a topological order, then $G =$ DAG, vice versa\n",
    "- if graph $G$ is a DAG, then $G$ has one or more nodes that have no incoming edges\n",
    "\n",
    "### Topological Order\n",
    "\n",
    "A topological order of a directed graph $G = (V, E)$ is an ordering of its nodes as $v_1, v_2, \\dots, v_k$ such that we have $i < j$ $\\forall e(v_i, v_j) \\in E$\n",
    "- in other words: for every edge $e$ from $v_i$ to $v_j$, $i$ is less than $j$)\n",
    "- mental image: all edges pointing from left to right. $v_1$ doesn't have to necessarily be the only source node, multiple nodes can have no incoming edges\n",
    "- time complexity: $O(m + n)$\n",
    "- applications\n",
    "    - course prerequisite graph\n",
    "    - workflow management (Airflow)\n"
   ]
  },
  {
   "cell_type": "markdown",
   "metadata": {},
   "source": [
    "## Misc\n",
    "\n",
    "### Transitive Closure\n",
    "\n",
    "The transitive closure graph of $G$ is a graph $G’$:\n",
    "\n",
    "- with the same vertices as $G$, and\n",
    "- with an edge between all pairs of nodes that are connected by a path in $G$\n",
    "\n",
    "### Bipartite Graphs\n",
    "\n",
    "An undirected graph $G = (V, E)$ is bipartite if the nodes can be colored red or blue such that every edge connects a red node and a blue node\n",
    "\n",
    "- Applications\n",
    "    - stable marriage (stable matching?)\n",
    "    - scheduling: machines = red, jobs = blue\n",
    "- testing bipartiteness\n",
    "    - Many graph problems become:\n",
    "        - easier if the underlying graph is bipartite (matching)\n",
    "        - tractable if the underlying graph is bipartite (independent set)\n",
    "    - If a graph $G$ is bipartite, then it cannot contain an odd length cycle."
   ]
  },
  {
   "cell_type": "markdown",
   "metadata": {},
   "source": [
    "## Weighted Graph\n",
    "\n",
    "- [Prim's Algorithm for undirected weighted graph](#Prim's-Algorithm)\n",
    "- [Dijkstra's Algorithm for un/directed weighted graph](#Dijkstra's-Algorithm)"
   ]
  },
  {
   "cell_type": "markdown",
   "metadata": {
    "toc-hr-collapsed": true,
    "toc-nb-collapsed": true
   },
   "source": [
    "# Greedy Algorithms"
   ]
  },
  {
   "cell_type": "markdown",
   "metadata": {},
   "source": [
    "> A greedy algorithm is an algorithm that follows the problem solving heuristic of making the **locally optimal** choice at each stage with the hope of finding a **global optimum**.\n",
    "\n",
    "Typical problems\n",
    "\n",
    "- Coin change problem\n",
    "    - Given a set of coins, $c=\\{5, 10, 20, 50\\}$, and an amount of change, $x$, find the smellest collection of coins which add up to the change\n",
    "- Conversion from decimal to binary, vice versa\n",
    "- Interval Scheduling\n",
    "- [Dijkstra's Shortest Path](#Dijkstra's-Shortest-Path)\n",
    "- Clustering\n",
    "\n",
    "Some other places where a greedy algorithm gets you the best solution:\n",
    "\n",
    "- Trying to fit as many overlapping meetings as possible in a conference room? At each step, schedule the meeting that *ends* earliest.\n",
    "- Looking for a minimum spanning tree in a [graph](https://www.interviewcake.com/concept/graph)? At each step, greedily pick the cheapest edge that reaches a new vertex.\n",
    "\n",
    "**Careful: sometimes a greedy algorithm *doesn't* give you an optimal solution:**\n",
    "\n",
    "- [When filling a duffel bag with cakes of different weights and values](https://www.interviewcake.com/question/cake-thief), choosing the cake with the highest value per pound doesn't always produce the best haul.\n",
    "- To find the cheapest route visiting a set of cities, choosing to visit the cheapest city you haven't been to yet doesn't produce the cheapest overall itinerary."
   ]
  },
  {
   "cell_type": "markdown",
   "metadata": {},
   "source": [
    "Inversions\n",
    "\n",
    "An inversion in schedule $S$ is a pair of jobs $(i, k)$ such that $i < k$ (by deadline) but $k$ is scheduled before $i$.\n",
    "\n",
    "![img](img/inversion.png)\n",
    "\n",
    "Greedy algorithm doesn't create inversions"
   ]
  },
  {
   "cell_type": "markdown",
   "metadata": {},
   "source": [
    "## Coin Change"
   ]
  },
  {
   "cell_type": "code",
   "execution_count": 18,
   "metadata": {},
   "outputs": [
    {
     "name": "stdout",
     "output_type": "stream",
     "text": [
      "50\n",
      "25\n",
      "10\n",
      "10\n"
     ]
    },
    {
     "data": {
      "text/plain": [
       "4"
      ]
     },
     "execution_count": 18,
     "metadata": {},
     "output_type": "execute_result"
    }
   ],
   "source": [
    "def coinChange(c: List, x: int) -> int:\n",
    "    cur = c.pop()\n",
    "    change = 0\n",
    "    while x > 0:\n",
    "        if x >= cur:\n",
    "            print(cur)\n",
    "            x -= cur\n",
    "            change += 1\n",
    "        else:\n",
    "            cur = c.pop()\n",
    "            \n",
    "    return change\n",
    "\n",
    "c = [1, 5, 10, 25, 50]\n",
    "x = 95\n",
    "coinChange(c, x)"
   ]
  },
  {
   "cell_type": "markdown",
   "metadata": {},
   "source": [
    "1. Choose the largest coin less than the amount $x$\n",
    "2. Subtract the value of coin from $x$\n",
    "3. Repeat until amount = 0\n",
    "\n",
    "- may not work depending on the set $c$\n",
    "- Will always work if each coin is an integer multiple of the next smallest denomination e.g. $c=\\{40, 20, 10, 1\\}$\n",
    "    - Proof: Can always replace multiple lower denominations (e.g. 2x20c) with fewer higher denominations (1x40c), so the lower denominations will only add up to at most one less than a higher denomination (e.g. there is at most 1x20c, 1x10c, and 9x1c)"
   ]
  },
  {
   "cell_type": "markdown",
   "metadata": {},
   "source": [
    "## Interval Scheduling"
   ]
  },
  {
   "cell_type": "code",
   "execution_count": 19,
   "metadata": {},
   "outputs": [],
   "source": [
    "# https://leetcode.com/problems/non-overlapping-intervals/discuss/276056/Python-Greedy-Interval-Scheduling\n",
    "\n",
    "\"\"\"\n",
    "Given a collection of intervals, find the minimum number of intervals \n",
    "you need to remove to make the rest of the intervals non-overlapping.\n",
    "\"\"\"\n",
    "\n",
    "def eraseOverlapIntervals(intervals):\n",
    "\tend, cnt = float('-inf'), 0\n",
    "\tfor i in sorted(intervals, key=lambda x: x[1]):\n",
    "\t\tif i[0] >= end: \n",
    "\t\t\tend = i[1]\n",
    "\t\telse: \n",
    "\t\t\tcnt += 1\n",
    "\treturn cnt\n",
    "\n",
    "assert eraseOverlapIntervals([[1,2],[1,2],[1,2]]) == 2"
   ]
  },
  {
   "cell_type": "markdown",
   "metadata": {},
   "source": [
    "The heuristic is: always pick the interval with the earliest end time. Then you can get the maximal number of non-overlapping intervals. (or minimal number to remove).\n",
    "This is because, the interval with the earliest end time produces the maximal capacity to hold rest intervals.\n",
    "\n",
    "E.g. Suppose current earliest end time of the rest intervals is `x`. Then available time slot left for other intervals is `[x:]`. If we choose another interval with end time `y`, then available time slot would be `[y:]`. Since `x ≤ y`, there is no way `[y:]` can hold more intervals then `[x:]`. Thus, the heuristic holds.\n",
    "\n",
    "Therefore, we can sort interval by ending time and key track of current earliest end time. Once next interval's start time is earlier than current end time, then we have to remove one interval. Otherwise, we update earliest end time.\n",
    "\n",
    "- Time complexity is $O(nlog(n))$ as sort overwhelms greedy search."
   ]
  },
  {
   "cell_type": "markdown",
   "metadata": {},
   "source": [
    "## Minimum Spanning Tree\n",
    "\n",
    "Given a connected graph $G = (V, E)$ with real-valued edge weights $c_e$ , a MST is a subset of the edges $T\\subseteq E$ such that $T$ is a spanning tree whose sum of edge weights is minimized.\n",
    "\n",
    "![img](img/mst.png)\n",
    "\n",
    "![img](img/mst2.png)\n",
    "\n",
    "Cayley's Theorem. There are $n^{n-2}$ spanning trees of $K_n$. Therefore this cannot be solved by brute force.\n",
    "\n",
    "Greedy Algorithms to find MST\n",
    "\n",
    "- Reverse-Delete algorithm\n",
    "    - Start with $T = E$. Consider edges in descending order of cost. Delete edge $e$ from $T$ unless doing so would disconnect $T$.\n",
    "- Prim's algorithm\n",
    "    - Start with some root node $s$ and greedily grow a tree $T$ from $s$ outward. At each step, add the cheapest edge $e$ to $T$ that has exactly one endpoint in $T$\n",
    "    - Time Complexity: $O(|V|^2)$ assuming adjacency matrix\n",
    "- Kruskal's Algorithm\n",
    "    – Start with $T = \\emptyset$. Consider edges in ascending order of cost. Insert edge $e$ in $T$ unless doing so would create a cycle.\n",
    "\n",
    "Reference\n",
    "- https://peades.com/sketchbook/mst/mst.html\n",
    "- https://www.programiz.com/dsa/prim-algorithm\n",
    "- https://www.programiz.com/dsa/kruskal-algorithm\n",
    "\n",
    "Related\n",
    "- [Graph](#Graph)\n",
    "- [Prim's Algorithm](#Prim's-Algorithm)"
   ]
  },
  {
   "cell_type": "markdown",
   "metadata": {},
   "source": [
    "# Divide and Conquer"
   ]
  },
  {
   "cell_type": "markdown",
   "metadata": {},
   "source": [
    "- Break up problem into several parts.\n",
    "- Solve each part recursively.\n",
    "- Combine solutions to sub-problems into overall solution.\n",
    "\n",
    "Steps\n",
    "\n",
    "- Break up problem of size $n$ into two equal parts of size $\\frac{n}{2}$.\n",
    "- Solve two parts recursively.\n",
    "- Combine two solutions into overall solution in linear time.\n",
    "\n",
    "Use case\n",
    "- Sorting\n",
    "- Binary Search\n",
    "- BST\n",
    "- Closest pair of points - Given $n$ points in the plane, find a pair with smallest Euclidean distance between them\n",
    "- Karatsuba Multiplication\n",
    "\n",
    "Runtime: $O(n \\log n)$\n",
    "\n",
    "Time: $T(\\frac{n}{2})+O(1)$"
   ]
  },
  {
   "cell_type": "markdown",
   "metadata": {},
   "source": [
    "## Master Theorem"
   ]
  },
  {
   "cell_type": "markdown",
   "metadata": {},
   "source": [
    "The master theorem provides a solution to recurrence relations of the form\n",
    "\n",
    "$$T(n)=a T\\left(\\frac{n}{b}\\right)+f(n)$$\n",
    "\n",
    "for constants $a \\ge 1$ and $b > 1$ with $f$ asymptotically positive, the following statements are true:\n",
    "\n",
    "- Case 1. If $f(n)=O\\left(n^{\\log _{b} a-\\epsilon}\\right)$ for some $\\epsilon>0,$ then $T(n)=\\Theta\\left(n^{\\log _{b} a}\\right)$\n",
    "- Case 2. If $f(n)=\\Theta\\left(n^{\\log _{b} a}\\right),$ then $T(n)=\\Theta\\left(n^{\\log _{b} a} \\log n\\right)$\n",
    "- Case $\\left.3 \\text { . If } f(n)=\\Omega\\left(n^{\\log _{b} a+\\epsilon}\\right) \\text { for some } \\epsilon>0 \\text { (and } a f\\left(\\frac{n}{b}\\right) \\leq c f(n) \\text { for some } c<1 \\text { for all } n \\text { sufficiently large }\\right)$, then $T(n)=\\Theta(f(n))$\n",
    "\n",
    "\n",
    "For instance, one can show that runtime of the merge sort algorithm satisfies\n",
    "\n",
    "$$T(n)=2T\\left(\\frac{n}{2}\\right)+n$$\n",
    "\n",
    "Similarly, traversing a binary tree takes time\n",
    "\n",
    "$$T(n)=2T\\left(\\frac{n}{2}\\right)+O(1)$$\n",
    "\n",
    "By comparing $\\log_b{a}$ to the asymptotic behavior of $f(n)$, the master theorem provides a solution to many frequently seen recurrences.\n",
    "\n",
    "\n",
    "Simply put, if $f(n)$ is polynomially smaller than $n^{\\log_b{a}}$, then $n^{\\log_b{a}}$ dominates, and the runtime is $\\Theta\\left(n^{\\log_b{a}}\\right)$. If $f(n)$ is instead polynomially larger than $n^{\\log_b{a}}$, then $f(n)$ dominates, and the runtime is $\\Theta\\big(f(n)\\big)$. Finally, if $f(n)$ and $n^{\\log_b{a}}$ are asymptotically the same, then $T(n) = \\Theta\\left(n^{\\log_b{a}} \\log{n} \\right)$.\n",
    "\n",
    "Invalid (incorrect) use of Master Theorem\n",
    "![img](img/master.png)\n",
    "\n",
    "Reference\n",
    "\n",
    "- https://brilliant.org/wiki/master-theorem/\n"
   ]
  },
  {
   "cell_type": "markdown",
   "metadata": {},
   "source": [
    "## Sort\n",
    "\n",
    "- Merge sort\n",
    "    - steps\n",
    "        1. Divide array into two halves\n",
    "        2. Recursively sort each half\n",
    "        3. Merge two halves to make sorted whole\n",
    "    - $T(n) = O(n \\log_{2}n)$"
   ]
  },
  {
   "cell_type": "markdown",
   "metadata": {},
   "source": [
    "## Find closest pair of points\n",
    "\n",
    "Given a list of $n$ points of form $(i, j)$ in a 2D plane, find a pair with smallest Euclidean distance between them.\n",
    "\n",
    "Algorithm\n",
    "1. Divide: Divide the plane in roughly half\n",
    "2. Conquer: Find closest pair in each sides recursively\n",
    "3. Combine: Find closest pair with one point in each side\n",
    "    - Only need to consider points located less than $min(d_L, d_R)$ distance from the border drawn in #1, where $d_L,d_R$ are the distances between the closest pair of points in each side.\n",
    "4. Return best of 3 solutions\n",
    "\n",
    "Analysis\n",
    "\n",
    "$$T(n) \\le 2T(\\frac{n}{2})+O(n \\log n) \\rightarrow T(n) = O(n \\log^{2}n)$$\n",
    "\n"
   ]
  },
  {
   "cell_type": "markdown",
   "metadata": {},
   "source": [
    "## Karatsuba Multiplication"
   ]
  },
  {
   "cell_type": "code",
   "execution_count": 20,
   "metadata": {},
   "outputs": [],
   "source": [
    "def karat(x,y):\n",
    "    if len(str(x)) == 1 or len(str(y)) == 1:\n",
    "        return x*y\n",
    "    else:\n",
    "        m = max(len(str(x)),len(str(y)))\n",
    "        m2 = m // 2\n",
    "\n",
    "        a = x // 10**(m2)\n",
    "        b = x % 10**(m2)\n",
    "        c = y // 10**(m2)\n",
    "        d = y % 10**(m2)\n",
    "\n",
    "        z0 = karat(b,d)\n",
    "        z1 = karat((a+b),(c+d))\n",
    "        z2 = karat(a,c)\n",
    "\n",
    "        return (z2 * 10**(2*m2)) + ((z1 - z2 - z0) * 10**(m2)) + (z0)"
   ]
  },
  {
   "cell_type": "markdown",
   "metadata": {},
   "source": [
    "# Dynamic Programming"
   ]
  },
  {
   "cell_type": "markdown",
   "metadata": {},
   "source": [
    "Dynamic programming refers to a problem-solving approach, in which we precompute and store simpler, similar subproblems, in order to build up the solution to a complex problem. \n",
    "It is similar to recursion, in which calculating the base cases allows us to inductively determine the final value. \n",
    "This bottom-up approach works well when the new value depends only on previously calculated values.\n",
    "\n",
    "An important property of a problem that is being solved through dynamic programming is that it should have overlapping subproblems. \n",
    "This is what distinguishes DP from divide and conquer in which storing the simpler values isn't necessary.\n",
    "\n",
    "Dynamic Programming Prerequisites/Restrictions\n",
    "- Optimal substructure — optimal solution can be constructed from optimal solutions of its subproblems\n",
    "- Overlapping sub-problems — problem can be broken down into subproblems which are reused several times or a recursive algorithm for the problem solves the same subproblem over and over rather than always generating new subproblems\n",
    "\n",
    "Dynamic Programming Problems\n",
    "\n",
    "- Egg Dropping: What is the best way to drop nn eggs from an m-floored building to figure out the lowest height from which the eggs when dropped crack?\n",
    "- Subset Sum Problem: Given a set and a value n, is there a subset the sum of whose elements is n?\n",
    "- [Fibonacci Numbers](#n-th-Fibonacci): Is there a better way to compute Fibonacci numbers than plain recursion?\n",
    "- [Maximum Subarray](#Maximum-Subarray)\n",
    "- [Coin Change](#Coin-Change)\n",
    "- [Knapsack Problem](#Knapsack-Problem): Given a set of treasures with known values and weights, which of them should you pick to maximize your profit whilst not damaging your backpack which has a fixed capacity?\n",
    "- [Longest Increasing Subsequence](#Longest-Increasing-Subsequence-(LIS))\n",
    "- [Longest Common Subsequence](#Longest-Common-Subsequence-(LCS)): Given two sequences, which is the longest subsequence common to both of them?\n",
    "\n",
    "Approaches\n",
    "\n",
    "- Memoization (top-down cache filling) refers to the technique of caching and reusing previously computed results. The memoized fib function would thus look like this:\n",
    "    ```\n",
    "    memFib(n) {\n",
    "        if (mem[n] is undefined)\n",
    "            if (n < 2) result = n\n",
    "            else result = memFib(n-2) + memFib(n-1)\n",
    "            mem[n] = result\n",
    "        return mem[n]\n",
    "    }\n",
    "    ```\n",
    "- DP Table Tabulation (bottom-up cache filling) is similar but focuses on filling the entries of the cache. Computing the values in the cache is easiest done iteratively. The tabulation version of fib would look like this:\n",
    "    ```\n",
    "    tabFib(n) {\n",
    "        mem[0] = 0\n",
    "        mem[1] = 1\n",
    "        for i = 2...n\n",
    "            mem[i] = mem[i-2] + mem[i-1]\n",
    "        return mem[n]\n",
    "    }\n",
    "    ```\n",
    "    \n",
    "Steps in DP\n",
    "\n",
    "1. Find a recursive relation. If you are already have your recursive relation, go to the implementation stage which starts from (4). Read the problem carefully, and find out if you could divide the problem into sub‐problems. The most important thing for the dynamic programming pattern is that you should prove that the solution of the higher‐level problem expressed in optimal solutions of the sub‐ problems is optimal. This part might be tough; if you can’t figure out a recursive relation, try the divide‐and‐conquer pattern or the backtrack, branch‐and‐bound pattern. By doing that you might find a recursive relation between sub‐problems.\n",
    "2. What is the answer of the problem? Now express your global optimal solution in terms of the recursive relation that you found in the previous stage (1).\n",
    "3. Try an example to verify the recursive relation. You might have got the recursive relation wrong. Try a simple example by walking through the recursion, and do the math. You would get an insight whether your relation is right or wrong.\n",
    "4. Express the recursive relation top­down. Write down code that executes the recursive relation that you have found. First write down the trivial cases (i.e. boundary cases), and then make the top level function using the previous function.\n",
    "5. Use memoization to eliminate redundancy. After writing down the recursion, you will see that the program is doing the same computation over and over again. Introduce an array that saves the intermediate results. First search the array, and if the value is already there return that value, if not, enter the recursive function to calculate the solution.\n",
    "6. Express the recursive relation bottom­up. The top‐down approach divides the problem top to bottom, and after hitting the trivial cases (i.e., boundary cases) it climbs up the ladder. The bottom‐up approach starts from the trivial cases and goes up. By writing a bottom‐up approach, you basically save the overhead of function calls. This might be the fastest version among your three versions of code.\n",
    "7. Parallelize. Even you did up to (6) and it takes too long to compute the global optimal solution, you have two choices. 1) Find a more efficient recursive relation in terms of time complexity which starts from step (1), or 2) parallelize your program."
   ]
  },
  {
   "cell_type": "markdown",
   "metadata": {},
   "source": [
    "## n-th Fibonacci "
   ]
  },
  {
   "cell_type": "markdown",
   "metadata": {},
   "source": [
    "- `fib1()`: top-down DP with memoization using LRU-Cache and recursion\n",
    "    - Time complexity: $O(n)$\n",
    "    - Space complexity: $O(n)$\n",
    "- `fib2()`: bottom-up DP with memoization\n",
    "    - Time complexity: $O(n)$\n",
    "    - Space complexity: $O(n)$\n",
    "- `fib3()`: bottom-up DP with memoization and constant space\n",
    "    - Time complexity: $O(n)$\n",
    "    - Space complexity: $O(1)$"
   ]
  },
  {
   "cell_type": "code",
   "execution_count": 14,
   "metadata": {},
   "outputs": [],
   "source": [
    "# top-down DP with memoization using LRU-Cache\n",
    "from functools import lru_cache\n",
    "\n",
    "@lru_cache(maxsize=None)\n",
    "def fib1(n: int) -> int:\n",
    "    if n <= 2:\n",
    "        num = 1\n",
    "    else:\n",
    "        num = fib1(n-1) + fib1(n-2)\n",
    "    return num\n",
    "\n",
    "# bottom-up DP\n",
    "def fib2(n: int) -> int:\n",
    "    fib = {}\n",
    "\n",
    "    for k in range(1, n+1):\n",
    "        if k <= 2:\n",
    "            num = 1\n",
    "        else:\n",
    "            num = fib[k-1] + fib[k-2]\n",
    "\n",
    "        fib[k] = num\n",
    "    return fib[n]\n",
    "\n",
    "# bottom-up DP constant space\n",
    "def fib3(n: int) -> int:\n",
    "    fib = {}\n",
    "\n",
    "    for k in range(1, n+1):\n",
    "        if k <= 2:\n",
    "            num = 1\n",
    "        else:\n",
    "            num = fib[k-1] + fib[k-2]\n",
    "            del fib[k-2]\n",
    "        \n",
    "        fib[k] = num\n",
    "    return fib[n]\n",
    "\n",
    "n = 20\n",
    "assert fib1(n) == fib2(n) == fib3(n)"
   ]
  },
  {
   "cell_type": "markdown",
   "metadata": {},
   "source": [
    "## Maximum Subarray\n",
    "\n",
    "[Maximum Subarray - LeetCode](https://leetcode.com/problems/maximum-subarray/)\n",
    "\n",
    "Given an integer array nums, find the contiguous subarray (containing at least one number) which has the largest sum and return its sum.\n",
    "\n",
    "    Example:\n",
    "\n",
    "    Input: [-2, 1, -3, 4, -1, 2, 1, -5, 4]\n",
    "    Output: 6\n",
    "    Explanation: [4,-1,2,1] has the largest sum = 6."
   ]
  },
  {
   "cell_type": "markdown",
   "metadata": {},
   "source": [
    "### Kadane's Algorithm\n",
    "\n",
    "Kadane's algorithm\n",
    "Kadane's algorithm scans the given array ${\\displaystyle A[1...n]}$ from left to right. In the ${\\displaystyle j}$th step, it computes the subarray with the largest sum ending at ${\\displaystyle j}$; this sum is maintained in variable `current_max`. Moreover, it computes the subarray with the largest sum anywhere in ${\\displaystyle A[1\\dots j]}$, maintained in variable `global_max`, and easily obtained as the maximum of all values of current_sum seen so far"
   ]
  },
  {
   "cell_type": "code",
   "execution_count": 35,
   "metadata": {},
   "outputs": [],
   "source": [
    "def max_subarray(nums):\n",
    "    \"\"\"Find the largest sum of any contiguous subarray.\"\"\"\n",
    "    current_max = nums[0]\n",
    "    global_max = nums[0]\n",
    "    \n",
    "    for i in range(1, len(nums)):\n",
    "        current_max = max(nums[i], nums[i] + current_max)\n",
    "        global_max = max(global_max, current_max)\n",
    "    return global_max\n",
    "\n",
    "\n",
    "assert max_subarray([-2, 1, -3, 4, -1, 2, 1, -5, 4]) == 6"
   ]
  },
  {
   "cell_type": "markdown",
   "metadata": {},
   "source": [
    "## Coin Change"
   ]
  },
  {
   "cell_type": "markdown",
   "metadata": {},
   "source": [
    "[Coin Change - LeetCode](https://leetcode.com/problems/coin-change/)\n",
    "\n",
    "You are given coins of different denominations and a total amount of money amount. Write a function to compute the fewest number of coins that you need to make up that amount. If that amount of money cannot be made up by any combination of the coins, return -1.\n",
    "\n",
    "Solution: Assume `dp[i]` is the fewest number of coins making up amount i, then for every coin in coins, `dp[i] = min(dp[i - coin] + 1)`."
   ]
  },
  {
   "cell_type": "code",
   "execution_count": 219,
   "metadata": {},
   "outputs": [
    {
     "name": "stdout",
     "output_type": "stream",
     "text": [
      "[0, 1, 1, 2, 2, 1, 2, 2, 3, 3, 2, 3]\n"
     ]
    }
   ],
   "source": [
    "class Solution(object):\n",
    "    def coinChange(self, coins: List[int], amount: int) -> int:\n",
    "        dp = [float('inf')] * (amount + 1)\n",
    "        dp[0] = 0\n",
    "        \n",
    "        for i in range(1, amount+1):\n",
    "            for coin in coins:\n",
    "                if i - coin >= 0:\n",
    "                    dp[i] = min(dp[i], dp[i-coin] + 1)\n",
    "        if dp[-1] == float('inf'):\n",
    "            return -1\n",
    "        \n",
    "        print(dp)\n",
    "        return dp[-1]\n",
    "\n",
    "\n",
    "coins = [1, 2, 5]\n",
    "amount = 11\n",
    "assert Solution().coinChange(coins, amount) == 3"
   ]
  },
  {
   "cell_type": "markdown",
   "metadata": {},
   "source": [
    "## Knapsack Problem"
   ]
  },
  {
   "cell_type": "markdown",
   "metadata": {},
   "source": [
    "Given a knapsack that can carry $W$ units of weight and a set of $n$ items $S=(V, W)$, where $v_i$ is the value and $w_i$ is the weight of item $S_i$. The quantity of each items are unbounded. The challenge is to maximize the value of items that we could carry using the bag. If we use qi to indicate the quantity of each item, the problem could be rephrased as following:\n",
    "\n",
    "$$\\text{Maximize } \\sum_{i=1}^{n} v_{i} q_{i},\\text{ subject to }\\sum_{i=1}^{n} w_{i} q_{i} \\leq W$$"
   ]
  },
  {
   "cell_type": "code",
   "execution_count": 84,
   "metadata": {},
   "outputs": [
    {
     "data": {
      "text/html": [
       "<div>\n",
       "<style scoped>\n",
       "    .dataframe tbody tr th:only-of-type {\n",
       "        vertical-align: middle;\n",
       "    }\n",
       "\n",
       "    .dataframe tbody tr th {\n",
       "        vertical-align: top;\n",
       "    }\n",
       "\n",
       "    .dataframe thead th {\n",
       "        text-align: right;\n",
       "    }\n",
       "</style>\n",
       "<table border=\"1\" class=\"dataframe\">\n",
       "  <thead>\n",
       "    <tr style=\"text-align: right;\">\n",
       "      <th></th>\n",
       "      <th>0</th>\n",
       "      <th>1</th>\n",
       "      <th>2</th>\n",
       "      <th>3</th>\n",
       "      <th>4</th>\n",
       "    </tr>\n",
       "  </thead>\n",
       "  <tbody>\n",
       "    <tr>\n",
       "      <th>values</th>\n",
       "      <td>1</td>\n",
       "      <td>6</td>\n",
       "      <td>18</td>\n",
       "      <td>22</td>\n",
       "      <td>28</td>\n",
       "    </tr>\n",
       "    <tr>\n",
       "      <th>weights</th>\n",
       "      <td>1</td>\n",
       "      <td>2</td>\n",
       "      <td>5</td>\n",
       "      <td>6</td>\n",
       "      <td>7</td>\n",
       "    </tr>\n",
       "  </tbody>\n",
       "</table>\n",
       "</div>"
      ],
      "text/plain": [
       "         0  1   2   3   4\n",
       "values   1  6  18  22  28\n",
       "weights  1  2   5   6   7"
      ]
     },
     "execution_count": 84,
     "metadata": {},
     "output_type": "execute_result"
    }
   ],
   "source": [
    "v = [1, 6, 18, 22, 28]\n",
    "w = [1, 2, 5, 6, 7]\n",
    "W = 11\n",
    "\n",
    "df = pd.DataFrame({'values': v, 'weights': w})\n",
    "df.transpose()"
   ]
  },
  {
   "cell_type": "code",
   "execution_count": 116,
   "metadata": {},
   "outputs": [],
   "source": [
    "def knapsack(values, weights, lim):\n",
    "    dp = [-1] * (lim + 1)\n",
    "    dp[0] = 0\n",
    "    global_max = 0\n",
    "\n",
    "    for i in range(1, lim + 1):\n",
    "        local_max = 0\n",
    "        for j in range(len(values)):\n",
    "            if weights[j] <= i:\n",
    "                local_max = max(local_max, values[j] + dp[i - weights[j]])\n",
    "        dp[i] = local_max\n",
    "        global_max = max(global_max, local_max)\n",
    "\n",
    "    return dp, global_max\n",
    "\n",
    "dp, global_max = knapsack(v, w, W)\n",
    "assert global_max == 40"
   ]
  },
  {
   "cell_type": "code",
   "execution_count": 117,
   "metadata": {},
   "outputs": [
    {
     "name": "stdout",
     "output_type": "stream",
     "text": [
      "DP Table\n"
     ]
    },
    {
     "data": {
      "text/html": [
       "<div>\n",
       "<style scoped>\n",
       "    .dataframe tbody tr th:only-of-type {\n",
       "        vertical-align: middle;\n",
       "    }\n",
       "\n",
       "    .dataframe tbody tr th {\n",
       "        vertical-align: top;\n",
       "    }\n",
       "\n",
       "    .dataframe thead th {\n",
       "        text-align: right;\n",
       "    }\n",
       "</style>\n",
       "<table border=\"1\" class=\"dataframe\">\n",
       "  <thead>\n",
       "    <tr style=\"text-align: right;\">\n",
       "      <th></th>\n",
       "      <th>0</th>\n",
       "      <th>1</th>\n",
       "      <th>2</th>\n",
       "      <th>3</th>\n",
       "      <th>4</th>\n",
       "      <th>5</th>\n",
       "      <th>6</th>\n",
       "      <th>7</th>\n",
       "      <th>8</th>\n",
       "      <th>9</th>\n",
       "      <th>10</th>\n",
       "      <th>11</th>\n",
       "    </tr>\n",
       "  </thead>\n",
       "  <tbody>\n",
       "    <tr>\n",
       "      <th>weight</th>\n",
       "      <td>0</td>\n",
       "      <td>1</td>\n",
       "      <td>2</td>\n",
       "      <td>3</td>\n",
       "      <td>4</td>\n",
       "      <td>5</td>\n",
       "      <td>6</td>\n",
       "      <td>7</td>\n",
       "      <td>8</td>\n",
       "      <td>9</td>\n",
       "      <td>10</td>\n",
       "      <td>11</td>\n",
       "    </tr>\n",
       "    <tr>\n",
       "      <th>max_value</th>\n",
       "      <td>0</td>\n",
       "      <td>1</td>\n",
       "      <td>6</td>\n",
       "      <td>7</td>\n",
       "      <td>12</td>\n",
       "      <td>18</td>\n",
       "      <td>22</td>\n",
       "      <td>28</td>\n",
       "      <td>29</td>\n",
       "      <td>34</td>\n",
       "      <td>36</td>\n",
       "      <td>40</td>\n",
       "    </tr>\n",
       "  </tbody>\n",
       "</table>\n",
       "</div>"
      ],
      "text/plain": [
       "           0  1  2  3   4   5   6   7   8   9  10  11\n",
       "weight     0  1  2  3   4   5   6   7   8   9  10  11\n",
       "max_value  0  1  6  7  12  18  22  28  29  34  36  40"
      ]
     },
     "execution_count": 117,
     "metadata": {},
     "output_type": "execute_result"
    }
   ],
   "source": [
    "idx = np.arange(len(dp), dtype=int)\n",
    "df = pd.DataFrame({'weight': idx, 'max_value': dp})\n",
    "print('DP Table')\n",
    "df.transpose()"
   ]
  },
  {
   "cell_type": "code",
   "execution_count": 118,
   "metadata": {},
   "outputs": [],
   "source": [
    "def knapsack(values, weights, lim):\n",
    "    dp = [[0] * (lim + 1) for i in range(len(values) + 1)]\n",
    "\n",
    "    for i in range(1, len(values) + 1):\n",
    "        for j in range(1, lim + 1):\n",
    "            if weights[i-1] > j:\n",
    "                dp[i][j] = dp[i-1][j]\n",
    "            else:\n",
    "                dp[i][j] = max(dp[i-1][j], values[i-1] + dp[i-1][j-weights[i-1]])\n",
    "    return dp\n",
    "\n",
    "dp = knapsack(v, w, W)\n",
    "assert dp[-1][-1] == 40"
   ]
  },
  {
   "cell_type": "code",
   "execution_count": 119,
   "metadata": {},
   "outputs": [
    {
     "data": {
      "text/plain": [
       "Text(0.5, 1.0, 'Knapsack Problem DP Table')"
      ]
     },
     "execution_count": 119,
     "metadata": {},
     "output_type": "execute_result"
    },
    {
     "data": {
      "image/png": "[encoded data removed]",
      "text/plain": [
       "<Figure size 1008x1008 with 1 Axes>"
      ]
     },
     "metadata": {},
     "output_type": "display_data"
    }
   ],
   "source": [
    "df = pd.DataFrame(dp)\n",
    "df.index = [['-']] + [\"{\" + \", \".join(map(str, range(1, i))) + \"}\" for i in range(2, len(v)+2)]\n",
    "\n",
    "fig, ax = plt.subplots(figsize=(14, 14))\n",
    "g = sns.heatmap(df, annot=True, linewidths=.2, ax=ax, square=True, cbar=False)\n",
    "ax.xaxis.set_ticks_position('top')\n",
    "sns.set(font_scale=2)\n",
    "plt.title('Knapsack Problem DP Table')"
   ]
  },
  {
   "cell_type": "markdown",
   "metadata": {},
   "source": [
    "`dp[i][j]` = Max value in backpack given weight capacity `j` and itemset `items[:i]`\n",
    "\n",
    "$$\\text{Recurrence: localmax = }max \\left( \\text{localmax, values}[j] + dp[i - \\text{weights}[j]] \\right) $$"
   ]
  },
  {
   "cell_type": "markdown",
   "metadata": {},
   "source": [
    "## Weighted Interval scheduling\n",
    "\n",
    "Given a list of jobs, each having start time, end time and value, find the maximum value subset of mutually compatible jobs.\n",
    "\n",
    "    jobs = [(0, 6, 1), (1, 4, 10), (3, 5, 5), (3, 8, 8), (4, 7, 15), (5, 9, 12), (6, 10, 17), (8, 11, 4)]"
   ]
  },
  {
   "cell_type": "code",
   "execution_count": 82,
   "metadata": {},
   "outputs": [],
   "source": [
    "import bisect\n",
    "\n",
    "def compute_previous_intervals(jobs: List[Tuple]):\n",
    "    '''\n",
    "    For every interval j, compute the rightmost mutually compatible interval i, where i < j\n",
    "    \n",
    "    input:\n",
    "        jobs: list of jobs sorted by earliest finish time\n",
    "    '''\n",
    "    start = [job[0] for job in jobs]\n",
    "    finish = [job[1] for job in jobs]\n",
    "\n",
    "    p = []\n",
    "    for j in range(len(jobs)):\n",
    "        i = bisect.bisect_right(finish, start[j]) - 1 # rightmost interval f_i <= s_j\n",
    "        p.append(i)\n",
    "\n",
    "    return p\n",
    "\n",
    "def compute_solution(jobs, OPT, p, ret, j):\n",
    "    if j >= 0:  # will halt on OPT[-1]\n",
    "        if jobs[j][-1] + OPT[p[j]] > OPT[j - 1]:\n",
    "            ret += jobs[j],\n",
    "            compute_solution(jobs, OPT, p, ret, p[j])\n",
    "        else:\n",
    "            compute_solution(jobs, OPT, p, ret, j - 1)\n",
    "    return ret\n",
    "\n",
    "def findMaxSubsetJobs(jobs):\n",
    "    jobs.sort(key=lambda x: x[1])\n",
    "    p = compute_previous_intervals(jobs)\n",
    "    \n",
    "    # compute OPTs iteratively in O(n), here we use DP\n",
    "    OPT = defaultdict(int)\n",
    "    OPT[-1] = 0\n",
    "    OPT[0] = 0\n",
    "    for j in range(1, len(jobs)):\n",
    "        OPT[j] = max(jobs[j][-1] + OPT[p[j]], OPT[j - 1])\n",
    "        \n",
    "    # given OPT and p, find actual solution intervals in O(n)\n",
    "    ret = []\n",
    "    ret = compute_solution(jobs, OPT, p, ret, len(jobs) - 1)\n",
    "\n",
    "    return sorted(ret, key=lambda x: x[1])"
   ]
  },
  {
   "cell_type": "code",
   "execution_count": 83,
   "metadata": {},
   "outputs": [
    {
     "name": "stdout",
     "output_type": "stream",
     "text": [
      "[(1, 4, 10), (3, 5, 5), (0, 6, 1), (4, 7, 15), (3, 8, 8), (5, 9, 12), (6, 10, 17), (8, 11, 4)]\n",
      "[-1, -1, -1, 0, -1, 1, 2, 4]\n"
     ]
    },
    {
     "data": {
      "text/plain": [
       "[(3, 5, 5), (6, 10, 17)]"
      ]
     },
     "execution_count": 83,
     "metadata": {},
     "output_type": "execute_result"
    }
   ],
   "source": [
    "jobs = [(0, 6, 1), (1, 4, 10), (3, 5, 5), (3, 8, 8), (4, 7, 15), (5, 9, 12), (6, 10, 17), (8, 11, 4)]\n",
    "findMaxSubsetJobs(jobs)"
   ]
  },
  {
   "cell_type": "markdown",
   "metadata": {},
   "source": [
    "$$\\text{Recurrence:} OPT[j] = max \\left(values[j] + OPT[p[j]], OPT[j-1]\\right) $$"
   ]
  },
  {
   "cell_type": "markdown",
   "metadata": {},
   "source": [
    "## Longest Increasing Subsequence (LIS)"
   ]
  },
  {
   "cell_type": "markdown",
   "metadata": {},
   "source": [
    "[Longest Increasing Subsequence - LeetCode](https://leetcode.com/problems/longest-increasing-subsequence/)\n",
    "\n",
    "Given an unsorted array of integers, find the length of longest increasing subsequence.\n",
    "\n",
    "    Example:\n",
    "\n",
    "    Input: [10,9,2,5,3,7,101,18]\n",
    "    Output: 4 \n",
    "    Explanation: The longest increasing subsequence is [2,3,7,101], therefore the length is 4. \n",
    "\n",
    "Note:\n",
    "\n",
    "- There may be more than one LIS combination, it is only necessary for you to return the length.\n",
    "- Your algorithm should run in $O(n^2)$ complexity.\n",
    "- Follow up: Could you improve it to $O(n \\log n)$ time complexity?"
   ]
  },
  {
   "cell_type": "code",
   "execution_count": 39,
   "metadata": {},
   "outputs": [
    {
     "name": "stdout",
     "output_type": "stream",
     "text": [
      "DP Table\n"
     ]
    },
    {
     "data": {
      "text/html": [
       "<div>\n",
       "<style scoped>\n",
       "    .dataframe tbody tr th:only-of-type {\n",
       "        vertical-align: middle;\n",
       "    }\n",
       "\n",
       "    .dataframe tbody tr th {\n",
       "        vertical-align: top;\n",
       "    }\n",
       "\n",
       "    .dataframe thead th {\n",
       "        text-align: right;\n",
       "    }\n",
       "</style>\n",
       "<table border=\"1\" class=\"dataframe\">\n",
       "  <thead>\n",
       "    <tr style=\"text-align: right;\">\n",
       "      <th></th>\n",
       "      <th>0</th>\n",
       "      <th>1</th>\n",
       "      <th>2</th>\n",
       "      <th>3</th>\n",
       "      <th>4</th>\n",
       "      <th>5</th>\n",
       "      <th>6</th>\n",
       "      <th>7</th>\n",
       "    </tr>\n",
       "  </thead>\n",
       "  <tbody>\n",
       "    <tr>\n",
       "      <th>nums</th>\n",
       "      <td>10</td>\n",
       "      <td>9</td>\n",
       "      <td>2</td>\n",
       "      <td>5</td>\n",
       "      <td>3</td>\n",
       "      <td>7</td>\n",
       "      <td>101</td>\n",
       "      <td>18</td>\n",
       "    </tr>\n",
       "    <tr>\n",
       "      <th>LIS</th>\n",
       "      <td>1</td>\n",
       "      <td>1</td>\n",
       "      <td>1</td>\n",
       "      <td>2</td>\n",
       "      <td>2</td>\n",
       "      <td>3</td>\n",
       "      <td>4</td>\n",
       "      <td>4</td>\n",
       "    </tr>\n",
       "  </tbody>\n",
       "</table>\n",
       "</div>"
      ],
      "text/plain": [
       "       0  1  2  3  4  5    6   7\n",
       "nums  10  9  2  5  3  7  101  18\n",
       "LIS    1  1  1  2  2  3    4   4"
      ]
     },
     "execution_count": 39,
     "metadata": {},
     "output_type": "execute_result"
    }
   ],
   "source": [
    "class Solution:\n",
    "    def lengthOfLIS(self, nums: List[int]) -> int:\n",
    "        if not nums:\n",
    "            return 0\n",
    "\n",
    "        dp = [1] * len(nums)\n",
    "\n",
    "        for i in range (1, len(nums)):\n",
    "            for j in range(i):\n",
    "\n",
    "                if nums[i] > nums[j]:\n",
    "                    dp[i] = max(dp[i], dp[j]+1)\n",
    "\n",
    "        return dp\n",
    "    \n",
    "\n",
    "nums = [10,9,2,5,3,7,101,18]\n",
    "dp = Solution().lengthOfLIS(nums)\n",
    "assert max(dp) == 4\n",
    "\n",
    "df = pd.DataFrame({'nums': nums, 'LIS': dp})\n",
    "print('DP Table')\n",
    "df.transpose()"
   ]
  },
  {
   "cell_type": "markdown",
   "metadata": {},
   "source": [
    "## Longest Common Subsequence (LCS)"
   ]
  },
  {
   "cell_type": "markdown",
   "metadata": {},
   "source": [
    "[Longest Common Subsequence - LeetCode](https://leetcode.com/problems/longest-common-subsequence/)\n",
    "\n",
    "Given two strings text1 and text2, return the length of their longest common subsequence.\n",
    "\n",
    "A subsequence of a string is a new string generated from the original string with some characters(can be none) deleted without changing the relative order of the remaining characters. (eg, \"ace\" is a subsequence of \"abcde\" while \"aec\" is not). A common subsequence of two strings is a subsequence that is common to both strings. If there is no common subsequence, return 0.\n",
    "\n",
    "    Example 1:\n",
    "    Input: text1 = \"abcde\", text2 = \"ace\" \n",
    "    Output: 3  \n",
    "    Explanation: The longest common subsequence is \"ace\" and its length is 3.\n",
    "    \n",
    "    Example 2:\n",
    "    Input: text1 = \"abc\", text2 = \"abc\"\n",
    "    Output: 3\n",
    "    Explanation: The longest common subsequence is \"abc\" and its length is 3.\n",
    "    \n",
    "    Example 3:\n",
    "    Input: text1 = \"abc\", text2 = \"def\"\n",
    "    Output: 0\n",
    "    Explanation: There is no such common subsequence, so the result is 0. \n",
    "\n",
    "Constraints:\n",
    "\n",
    "- `1 <= text1.length <= 1000`\n",
    "- `1 <= text2.length <= 1000`\n",
    "- The input strings consist of lowercase English characters only."
   ]
  },
  {
   "cell_type": "code",
   "execution_count": 47,
   "metadata": {},
   "outputs": [],
   "source": [
    "class Solution:\n",
    "    def longestCommonSubsequence(self, text1: str, text2: str):\n",
    "        dp = [[0] * (len(text2) + 1) for _ in range(len(text1) + 1)]\n",
    "        \n",
    "        for i in range(len(text1)):\n",
    "            for j in range(len(text2)):\n",
    "                if text1[i] == text2[j]:\n",
    "                    dp[i + 1][j + 1] = 1 + dp[i][j]\n",
    "                else:\n",
    "                    dp[i + 1][j + 1] = max(dp[i][j + 1], dp[i + 1][j])\n",
    "        return dp\n",
    "    \n",
    "\n",
    "text1 = \"hydromagnetics\"\n",
    "text2 = \"hydropneumatic\" \n",
    "dp = Solution().longestCommonSubsequence(text1, text2)\n",
    "assert dp[-1][-1] == 10"
   ]
  },
  {
   "cell_type": "code",
   "execution_count": 49,
   "metadata": {},
   "outputs": [
    {
     "data": {
      "text/plain": [
       "Text(0.5, 1.0, 'LCS DP Table')"
      ]
     },
     "execution_count": 49,
     "metadata": {},
     "output_type": "execute_result"
    },
    {
     "data": {
      "image/png": "[encoded data removed]",
      "text/plain": [
       "<Figure size 1008x1008 with 1 Axes>"
      ]
     },
     "metadata": {},
     "output_type": "display_data"
    }
   ],
   "source": [
    "df = pd.DataFrame(dp, index=list('-' + text1), columns=list('-' + text2))\n",
    "\n",
    "fig, ax = plt.subplots(figsize=(14, 14))\n",
    "g = sns.heatmap(df, annot=True, linewidths=.2, ax=ax, square=True, cbar=False)\n",
    "ax.xaxis.set_ticks_position('top')\n",
    "sns.set(font_scale=2)\n",
    "plt.yticks(rotation=0)\n",
    "plt.title('LCS DP Table')"
   ]
  },
  {
   "cell_type": "markdown",
   "metadata": {},
   "source": [
    "# Network Flows\n",
    "\n",
    "aka Weighted graph"
   ]
  },
  {
   "cell_type": "markdown",
   "metadata": {},
   "source": [
    "A weighted graph is interesting because it has little to do with whether the graph is directed, undirected, or contains cycles. At its core, a weighted graph is a graph whose edges have some sort of value that is associated with them. The value that is attached to an edge is what gives the edge its “weight”.\n",
    "\n",
    "A common way to refer to the “weight” of a single edge is by thinking of it as the cost or distance between two nodes. In other words, to go from node a to node b has some sort of cost to it.\n",
    "Or, if we think of the nodes like locations on a map, then the weight could instead be the distance between nodes $a$ and $b$. Continuing with the map metaphor, the “weight” of an edge can also represent the capacity of what can be transported, or what can be moved between two nodes, $a$ and $b$.\n",
    "\n",
    "## Representation\n",
    "\n",
    "Adjacency Matrix\n",
    "\n",
    "- one difference from unweighted graphs: instead of being binary, $A_{ij}$ indicate weighted edge from `i -> j` with weight $A_{ij}$\n",
    "\n",
    "\n",
    "    [0, 5, 14, 0, 0, 0, 0, 0, 0]\n",
    "    [0, 0, 4, 0, 3, 0, 0, 0, 0]\n",
    "    [0, 0, 0, 0, 0, 7, 0, 0, 0]\n",
    "    [0, 0, 0, 0, 0, 0, 6, 6, 0]\n",
    "    [0, 0, 0, 8, 0, 0, 0, 4, 0]\n",
    "    [0, 6, 0, 0, 3, 0, 0, 6, 0]\n",
    "    [0, 0, 0, 0, 0, 0, 0, 0, 10]\n",
    "    [0, 0, 0, 0, 0, 0, 0, 0, 8]\n",
    "    [0, 0, 0, 0, 0, 0, 0, 0, 0]"
   ]
  },
  {
   "cell_type": "markdown",
   "metadata": {},
   "source": [
    "## Shortest Paths"
   ]
  },
  {
   "cell_type": "markdown",
   "metadata": {},
   "source": [
    "|                  | Dijkstra                                                                       | Bellman-Ford                                                                                                                                                                                                                                                                                                                                            |\n",
    "|------------------|--------------------------------------------------------------------------------|---------------------------------------------------------------------------------------------------------------------------------------------------------------------------------------------------------------------------------------------------------------------------------------------------------------------------------------------------------|\n",
    "| Description      | Can end up in infinite loop if negative weighted edges exist.                  | Bellman Ford algorithm works by overestimating the length of the path<br>from the starting vertex to all other vertices. Then it iteratively<br>relaxes those estimates by finding new paths that are shorter than<br>the previously overestimated paths. By doing this repeatedly for <br>all vertices, we can guarantee that the result is optimized.<br>Guaranteed to terminate. |\n",
    "| Approach         | Greedy                                                                         | Dynamic Programming                                                                                                                                                                                                                                                                                                                                     |\n",
    "| Difference       |                                                                                | Works with negative weighted edges (can detect negative cycles)                                                                                                                                                                                                                                                                                         |\n",
    "| Time Complexity  | $O(|V|+|E| \\log |V|)$<br>where, E is the number of edges and V is the number of vertices. | $O(|E||V|)$                                                                                                                                                                                                                                                                                                                                                   |\n",
    "| Space Complexity | $O(V)$                                                                           | $O(V)$                                                                                                                                                                                                                                                                                                                                                    |\n",
    "| Link             | - https://www.programiz.com/dsa/dijkstra-algorithm<br> - https://www.youtube.com/watch?v=_lHSawdgXpI                               | - https://www.programiz.com/dsa/bellman-ford-algorithm<br> - https://www.youtube.com/watch?v=obWXjtg0L64                                                                                                                                                                                                                                                                                                    |\n",
    "\n",
    "However, Dijkstra's algorithm greedily selects the minimum-weight node that has not yet been processed, and performs this relaxation process on all of its outgoing edges; in contrast, the Bellman–Ford algorithm simply relaxes all the edges, and does this |V | − 1 times, where |V | is the number of vertices in the graph. In each of these repetitions, the number of vertices with correctly calculated distances grows, from which it follows that eventually all vertices will have their correct distances. This method allows the Bellman–Ford algorithm to be applied to a wider class of inputs than Dijkstra.\n",
    "\n",
    "Dijkstra is however generally considered better in the absence of negative weight edges, as a typical binary heap priority queue implementation has O((|E|+|V|)log|V|) time complexity [A Fibonacci heap priority queue gives O(|V|log|V| + |E|)], while the Bellman-Ford algorithm has O(|V||E|) complexity\n",
    "\n",
    "* Shortest paths differs from minimum spanning tree because the shortest distance between two vertices might not include all the vertices of the graph."
   ]
  },
  {
   "cell_type": "markdown",
   "metadata": {},
   "source": [
    "### Dijkstra's Algorithm"
   ]
  },
  {
   "cell_type": "markdown",
   "metadata": {},
   "source": [
    "Dijkstra’s algorithm can be used to determine the shortest path from one node in a graph to every other node within the same graph data structure, provided that the nodes are reachable from the starting node.\n",
    "\n",
    "This algorithm will continue to run until all of the reachable vertices in a graph have been visited, which means that we could run Dijkstra’s algorithm, find the shortest path between any two reachable nodes, and then save the results somewhere. Once we run Dijkstra’s algorithm just once, we can look up our results from our algorithm again and again — without having to actually run the algorithm itself!\n",
    "\n",
    "- It differs from minimum spanning tree because the shortest distance between two vertices might not include all the vertices of the graph.\n",
    "\n",
    "How Dijkstra's Algorithm works\n",
    "\n",
    "Dijkstra's Algorithm works on the basis that any subpath `B -> D` of the shortest path `A -> D` between vertices `A` and `D` is also the shortest path between vertices `B` and `D`.\n",
    "\n",
    "Djikstra used this property in the opposite direction i.e we overestimate the distance of each vertex from the starting vertex. Then we visit each node and its neighbours to find the shortest subpath to those neighbours.\n",
    "\n",
    "### Analysis\n",
    "\n",
    "- The algorithm uses a greedy approach in the sense that we find the next best solution hoping that the end result is the best solution for the whole problem.\n",
    "- The shortest path between two vertices in a graph $G$ with $n$ vertices and $m$ edges can be computed in $O(m+n log(n))$ time.\n",
    "- Or using heap-based priority queue implementation $O(m log(n))$.\n",
    "\n",
    "### Links\n",
    "\n",
    "- [Dijkstra's Shortest Path Algorithm | Brilliant Math & Science Wiki](https://brilliant.org/wiki/dijkstras-short-path-finder/)\n",
    "- [Dijkstra's Algorithm](https://www.programiz.com/dsa/dijkstra-algorithm)\n",
    "- [Dijkstra's Algorithm - Shortest paths with Dijkstra's Algorithm](https://www.codingame.com/playgrounds/1608/shortest-paths-with-dijkstras-algorithm/dijkstras-algorithm)\n",
    "- [Finding The Shortest Path, With A Little Help From Dijkstra](https://medium.com/basecs/finding-the-shortest-path-with-a-little-help-from-dijkstra-613149fbdc8e)\n",
    "- [https://www.youtube.com/watch?v=K_1urzWrzLs](https://www.youtube.com/watch?v=K_1urzWrzLs)\n",
    "\n",
    "### Related\n",
    "\n",
    "- [Greedy Algorithm](#Greedy-Algorithms)\n",
    "- [Graph](#Graph)"
   ]
  },
  {
   "cell_type": "code",
   "execution_count": 3,
   "metadata": {},
   "outputs": [],
   "source": [
    "# %load algorithms/graph_weighted.py"
   ]
  },
  {
   "cell_type": "code",
   "execution_count": 2,
   "metadata": {},
   "outputs": [
    {
     "name": "stdout",
     "output_type": "stream",
     "text": [
      "\n",
      "Weighted Graph / Dijkstra's Shortest Path\n",
      "directed: True\n",
      "source -> dest, weight\n",
      "0 -> 2, 9\n",
      "0 -> 7, 15\n",
      "0 -> 6, 14\n",
      "2 -> 3, 24\n",
      "3 -> 1, 19\n",
      "3 -> 5, 2\n",
      "4 -> 1, 6\n",
      "4 -> 3, 6\n",
      "5 -> 1, 16\n",
      "5 -> 4, 11\n",
      "6 -> 5, 30\n",
      "6 -> 3, 18\n",
      "6 -> 7, 5\n",
      "7 -> 1, 44\n",
      "7 -> 5, 20\n",
      "adjacency list\n",
      "0: [2, 6, 7]\n",
      "1: []\n",
      "2: [3]\n",
      "3: [1, 5]\n",
      "4: [1, 3]\n",
      "5: [1, 4]\n",
      "6: [3, 5, 7]\n",
      "7: [1, 5]\n",
      "\n",
      "adjacency matrix\n",
      "[0, 0, 9, 0, 0, 0, 14, 15]\n",
      "[0, 0, 0, 0, 0, 0, 0, 0]\n",
      "[0, 0, 0, 24, 0, 0, 0, 0]\n",
      "[0, 19, 0, 0, 0, 2, 0, 0]\n",
      "[0, 6, 0, 6, 0, 0, 0, 0]\n",
      "[0, 16, 0, 0, 11, 0, 0, 0]\n",
      "[0, 0, 0, 18, 0, 30, 0, 5]\n",
      "[0, 44, 0, 0, 0, 20, 0, 0]\n",
      "\n",
      "Shortest distance:\n",
      "50\n"
     ]
    }
   ],
   "source": [
    "from algorithms.graph_weighted import WeightedGraph\n",
    "\n",
    "print(\"\\nWeighted Graph / Dijkstra's Shortest Path\")\n",
    "edges = [\n",
    "    (0, 2, 9), (0, 6, 14), (0, 7, 15),\n",
    "    (2, 3, 24), (3, 1, 19), (3, 5, 2),\n",
    "    (4, 3, 6), (4, 1, 6), (5, 1, 16),\n",
    "    (5, 4, 11), (6, 5, 30), (6, 7, 5),\n",
    "    (6, 3, 18), (7, 5, 20), (7, 1, 44)\n",
    "]\n",
    "directed = True\n",
    "graph = WeightedGraph.from_edges(edges, directed)\n",
    "print('directed:', directed)\n",
    "\n",
    "print('source -> dest, weight')\n",
    "for src, dest, weight in sorted(graph.get_edges(), key=lambda x: x[0]):\n",
    "    print(f'{src} -> {dest}, {weight}')\n",
    "\n",
    "print('adjacency list')\n",
    "adj_list = graph.get_adjacency_list()\n",
    "for i, row in enumerate(adj_list):\n",
    "    print(f'{i}: {row}')\n",
    "\n",
    "print('\\nadjacency matrix')\n",
    "for row in graph.adjacency_matrix:\n",
    "    print(row)\n",
    "\n",
    "print('\\nShortest distance:')\n",
    "src = 0\n",
    "dest = 1\n",
    "print(graph.dijkstra_shortest_path(src, dest))"
   ]
  },
  {
   "cell_type": "markdown",
   "metadata": {},
   "source": [
    "### Bellman-Ford Algorithm\n",
    "\n",
    "Bellman Ford algorithm helps us find the shortest path from a vertex to all other vertices of a weighted graph.\n",
    "It is similar to [Dijkstra's algorithm](#Dijkstra's-Algorithm) but it can work with **graphs in which edges can have negative weights.**\n",
    "\n",
    "Why would one ever have edges with negative weights in real life?\n",
    "- Negative weight edges might seem useless at first but they can explain a lot of phenomena like cashflow, the heat released/absorbed in a chemical reaction, etc.\n",
    "- For instance, if there are different ways to reach from one chemical A to another chemical B, each method will have sub-reactions involving both heat dissipation and absorption.\n",
    "- If we want to find the set of reactions where minimum energy is required, then we will need to be able to factor in the heat absorption as negative weights and heat dissipation as positive weights.\n",
    "\n",
    "Why do we need to be careful with negative weights?\n",
    "- Negative weight edges can create negative weight cycles i.e. a cycle that will reduce the total path distance by coming back to the same point.\n",
    "- Shortest path algorithms like Dijkstra's Algorithm that aren't able to detect such a cycle can give an incorrect result because they can go through a negative weight cycle and reduce the path length.\n",
    "\n",
    "### Links\n",
    "- https://www.programiz.com/dsa/bellman-ford-algorithm\n",
    "\n",
    "### Related\n",
    "\n",
    "- [Dynamic Programming](#Dynamic-Programming)\n",
    "- [Graph](#Graph)"
   ]
  },
  {
   "cell_type": "code",
   "execution_count": 5,
   "metadata": {},
   "outputs": [
    {
     "name": "stdout",
     "output_type": "stream",
     "text": [
      "Vertex Distance from Source\n",
      "0\t\t0\n",
      "1\t\t50\n",
      "2\t\t9\n",
      "3\t\t32\n",
      "4\t\t45\n",
      "5\t\t34\n",
      "6\t\t14\n",
      "7\t\t15\n"
     ]
    },
    {
     "data": {
      "text/plain": [
       "[0, 50, 9, 32, 45, 34, 14, 15]"
      ]
     },
     "execution_count": 5,
     "metadata": {},
     "output_type": "execute_result"
    }
   ],
   "source": [
    "dist = graph.bellman_ford(0)\n",
    "dist"
   ]
  },
  {
   "cell_type": "markdown",
   "metadata": {},
   "source": [
    "## Minimum Spanning Tree (MST)"
   ]
  },
  {
   "cell_type": "markdown",
   "metadata": {},
   "source": [
    "### Prim's Algorithm"
   ]
  },
  {
   "cell_type": "markdown",
   "metadata": {},
   "source": [
    "Weighted undirected graph\n",
    "\n",
    "https://www.youtube.com/watch?v=cplfcGZmX7I"
   ]
  },
  {
   "cell_type": "code",
   "execution_count": 2,
   "metadata": {},
   "outputs": [],
   "source": [
    "# %load algorithms/prim.py"
   ]
  },
  {
   "cell_type": "code",
   "execution_count": 3,
   "metadata": {},
   "outputs": [
    {
     "name": "stdout",
     "output_type": "stream",
     "text": [
      "directed: False\n",
      "source -> dest, weight\n",
      "0 -> 1, 9\n",
      "0 -> 2, 75\n",
      "1 -> 2, 95\n",
      "1 -> 3, 19\n",
      "1 -> 0, 9\n",
      "1 -> 4, 42\n",
      "2 -> 0, 75\n",
      "2 -> 4, 66\n",
      "2 -> 1, 95\n",
      "2 -> 3, 51\n",
      "3 -> 1, 19\n",
      "3 -> 2, 51\n",
      "3 -> 4, 31\n",
      "4 -> 3, 31\n",
      "4 -> 2, 66\n",
      "4 -> 1, 42\n",
      "\n",
      "adjacency matrix\n",
      "[0, 9, 75, 0, 0]\n",
      "[9, 0, 95, 19, 42]\n",
      "[75, 95, 0, 51, 66]\n",
      "[0, 19, 51, 0, 31]\n",
      "[0, 42, 66, 31, 0]\n",
      "\n",
      "Prim's Algorithm\n",
      "0 -> 1, 9\n",
      "1 -> 3, 19\n",
      "3 -> 4, 31\n",
      "3 -> 2, 51\n"
     ]
    }
   ],
   "source": [
    "from algorithms.graph_weighted import WeightedGraph\n",
    "\n",
    "adjacency_matrix = [\n",
    "    [0, 9, 75, 0, 0],\n",
    "    [9, 0, 95, 19, 42],\n",
    "    [75, 95, 0, 51, 66],\n",
    "    [0, 19, 51, 0, 31],\n",
    "    [0, 42, 66, 31, 0]\n",
    "]\n",
    "directed = False\n",
    "graph = WeightedGraph(adjacency_matrix, directed)\n",
    "print('directed:', directed)\n",
    "\n",
    "print('source -> dest, weight')\n",
    "for src, dest, weight in sorted(graph.get_edges(), key=lambda x: x[0]):\n",
    "    print(f'{src} -> {dest}, {weight}')\n",
    "\n",
    "print('\\nadjacency matrix')\n",
    "for row in graph.adjacency_matrix:\n",
    "    print(row)\n",
    "\n",
    "print(\"\\nPrim's Algorithm\")\n",
    "mst = graph.prim_mst()\n",
    "for src, dest, weight in mst:\n",
    "    print(f'{src} -> {dest}, {weight}')"
   ]
  },
  {
   "cell_type": "code",
   "execution_count": 11,
   "metadata": {},
   "outputs": [
    {
     "data": {
      "image/png": "[encoded data removed]",
      "text/plain": [
       "<Figure size 1152x864 with 1 Axes>"
      ]
     },
     "metadata": {},
     "output_type": "display_data"
    }
   ],
   "source": [
    "graph = WeightedGraph.generate_graph()\n",
    "graph.plot()"
   ]
  },
  {
   "cell_type": "code",
   "execution_count": 12,
   "metadata": {},
   "outputs": [
    {
     "name": "stdout",
     "output_type": "stream",
     "text": [
      "directed: False\n",
      "source -> dest, weight\n",
      "0 -> 5, 28\n",
      "0 -> 4, 13\n",
      "0 -> 1, 12\n",
      "1 -> 6, 22\n",
      "1 -> 2, 1\n",
      "1 -> 0, 12\n",
      "2 -> 3, 20\n",
      "2 -> 1, 1\n",
      "2 -> 7, 14\n",
      "3 -> 4, 1\n",
      "3 -> 8, 16\n",
      "3 -> 2, 20\n",
      "4 -> 3, 1\n",
      "4 -> 9, 29\n",
      "4 -> 0, 13\n",
      "5 -> 0, 28\n",
      "5 -> 7, 13\n",
      "5 -> 8, 22\n",
      "6 -> 9, 26\n",
      "6 -> 1, 22\n",
      "6 -> 8, 2\n",
      "7 -> 5, 13\n",
      "7 -> 2, 14\n",
      "7 -> 9, 29\n",
      "8 -> 6, 2\n",
      "8 -> 3, 16\n",
      "8 -> 5, 22\n",
      "9 -> 6, 26\n",
      "9 -> 4, 29\n",
      "9 -> 7, 29\n",
      "\n",
      "adjacency matrix\n",
      "[0, 12, 0, 0, 13, 28, 0, 0, 0, 0]\n",
      "[12, 0, 1, 0, 0, 0, 22, 0, 0, 0]\n",
      "[0, 1, 0, 20, 0, 0, 0, 14, 0, 0]\n",
      "[0, 0, 20, 0, 1, 0, 0, 0, 16, 0]\n",
      "[13, 0, 0, 1, 0, 0, 0, 0, 0, 29]\n",
      "[28, 0, 0, 0, 0, 0, 0, 13, 22, 0]\n",
      "[0, 22, 0, 0, 0, 0, 0, 0, 2, 26]\n",
      "[0, 0, 14, 0, 0, 13, 0, 0, 0, 29]\n",
      "[0, 0, 0, 16, 0, 22, 2, 0, 0, 0]\n",
      "[0, 0, 0, 0, 29, 0, 26, 29, 0, 0]\n",
      "\n",
      "Prim's Algorithm\n",
      "0 -> 1, 12\n",
      "1 -> 2, 1\n",
      "0 -> 4, 13\n",
      "4 -> 3, 1\n",
      "2 -> 7, 14\n",
      "7 -> 5, 13\n",
      "3 -> 8, 16\n",
      "8 -> 6, 2\n",
      "6 -> 9, 26\n"
     ]
    }
   ],
   "source": [
    "print('directed:', directed)\n",
    "\n",
    "print('source -> dest, weight')\n",
    "for src, dest, weight in sorted(graph.get_edges(), key=lambda x: x[0]):\n",
    "    print(f'{src} -> {dest}, {weight}')\n",
    "\n",
    "print('\\nadjacency matrix')\n",
    "for row in graph.adjacency_matrix:\n",
    "    print(row)\n",
    "\n",
    "print(\"\\nPrim's Algorithm\")\n",
    "mst = graph.prim_mst()\n",
    "for src, dest, weight in mst:\n",
    "    print(f'{src} -> {dest}, {weight}')"
   ]
  },
  {
   "cell_type": "code",
   "execution_count": 13,
   "metadata": {},
   "outputs": [
    {
     "data": {
      "image/png": "[encoded data removed]",
      "text/plain": [
       "<Figure size 1152x864 with 1 Axes>"
      ]
     },
     "metadata": {},
     "output_type": "display_data"
    }
   ],
   "source": [
    "graph.plot(path_to_color=mst)"
   ]
  },
  {
   "cell_type": "markdown",
   "metadata": {},
   "source": [
    "## Max Flow - Ford-Fulkerson Algorithm"
   ]
  },
  {
   "cell_type": "markdown",
   "metadata": {},
   "source": [
    "- Ford Fulkerson == Edmond's Karp\n",
    "\n",
    "https://www.youtube.com/watch?v=Tl90tNtKvxs"
   ]
  },
  {
   "cell_type": "code",
   "execution_count": 25,
   "metadata": {},
   "outputs": [],
   "source": [
    "# %load algorithms/ford_fulkerson.py"
   ]
  },
  {
   "cell_type": "code",
   "execution_count": 26,
   "metadata": {},
   "outputs": [
    {
     "name": "stdout",
     "output_type": "stream",
     "text": [
      "source -> dest, weight\n",
      "0 -> 2, 14\n",
      "0 -> 1, 5\n",
      "1 -> 2, 4\n",
      "1 -> 4, 3\n",
      "2 -> 5, 7\n",
      "3 -> 7, 6\n",
      "3 -> 6, 6\n",
      "4 -> 3, 8\n",
      "4 -> 7, 4\n",
      "5 -> 7, 6\n",
      "5 -> 1, 6\n",
      "5 -> 4, 3\n",
      "6 -> 8, 10\n",
      "7 -> 8, 8\n",
      "\n",
      "adjacency matrix\n",
      "[0, 5, 14, 0, 0, 0, 0, 0, 0]\n",
      "[0, 0, 4, 0, 3, 0, 0, 0, 0]\n",
      "[0, 0, 0, 0, 0, 7, 0, 0, 0]\n",
      "[0, 0, 0, 0, 0, 0, 6, 6, 0]\n",
      "[0, 0, 0, 8, 0, 0, 0, 4, 0]\n",
      "[0, 6, 0, 0, 3, 0, 0, 6, 0]\n",
      "[0, 0, 0, 0, 0, 0, 0, 0, 10]\n",
      "[0, 0, 0, 0, 0, 0, 0, 0, 8]\n",
      "[0, 0, 0, 0, 0, 0, 0, 0, 0]\n",
      "\n",
      "Max Flow: 10\n",
      "\n",
      "residual graph\n",
      "[0, 2, 7, 0, 0, 0, 0, 0, 0]\n",
      "[3, 0, 4, 0, 0, 0, 0, 0, 0]\n",
      "[7, 0, 0, 0, 0, 0, 0, 0, 0]\n",
      "[0, 0, 0, 0, 2, 0, 4, 6, 0]\n",
      "[0, 3, 0, 6, 0, 2, 0, 1, 0]\n",
      "[0, 6, 7, 0, 1, 0, 0, 1, 0]\n",
      "[0, 0, 0, 2, 0, 0, 0, 0, 8]\n",
      "[0, 0, 0, 0, 3, 5, 0, 0, 0]\n",
      "[0, 0, 0, 0, 0, 0, 2, 8, 0]\n"
     ]
    }
   ],
   "source": [
    "from algorithms.ford_fulkerson import WeightedGraph\n",
    "\n",
    "adjacency_matrix = [\n",
    "    [0, 5, 14, 0, 0, 0, 0, 0, 0], # s\n",
    "    [0, 0, 4, 0, 3, 0, 0, 0, 0], # a\n",
    "    [0, 0, 0, 0, 0, 7, 0, 0, 0], # b\n",
    "    [0, 0, 0, 0, 0, 0, 6, 6, 0], # c\n",
    "    [0, 0, 0, 8, 0, 0, 0, 4, 0], # d\n",
    "    [0, 6, 0, 0, 3, 0, 0, 6, 0], # e\n",
    "    [0, 0, 0, 0, 0, 0, 0, 0, 10], # f\n",
    "    [0, 0, 0, 0, 0, 0, 0, 0, 8], # g\n",
    "    [0, 0, 0, 0, 0, 0, 0, 0, 0] # t\n",
    "]\n",
    "\n",
    "graph = WeightedGraph(adjacency_matrix)\n",
    "\n",
    "\n",
    "print('source -> dest, weight')\n",
    "for src, dest, weight in sorted(graph.get_edges(), key=lambda x: x[0]):\n",
    "    print(f'{src} -> {dest}, {weight}')\n",
    "\n",
    "print('\\nadjacency matrix')\n",
    "for row in graph.adjacency_matrix:\n",
    "    print(row)\n",
    "\n",
    "source = 0 # s\n",
    "sink = 8 # t\n",
    "maxflow = graph.ford_fulkerson(source, sink)\n",
    "print(\"\\nMax Flow:\", str(maxflow))\n",
    "\n",
    "print('\\nresidual graph')\n",
    "for row in graph.adjacency_matrix:\n",
    "    print(row)"
   ]
  },
  {
   "cell_type": "code",
   "execution_count": null,
   "metadata": {},
   "outputs": [],
   "source": []
  }
 ],
 "metadata": {
  "@deathbeds/jupyterlab-fonts": {
   "styles": {
    ":root": {
     "--jp-code-font-size": "14px",
     "--jp-content-font-size1": "16px",
     "--jp-content-line-height": "1.5"
    }
   }
  },
  "kernelspec": {
   "display_name": "Python 3",
   "language": "python",
   "name": "python3"
  },
  "language_info": {
   "codemirror_mode": {
    "name": "ipython",
    "version": 3
   },
   "file_extension": ".py",
   "mimetype": "text/x-python",
   "name": "python",
   "nbconvert_exporter": "python",
   "pygments_lexer": "ipython3",
   "version": "3.7.6"
  },
  "toc-autonumbering": false,
  "toc-showcode": false,
  "toc-showmarkdowntxt": false,
  "toc-showtags": false
 },
 "nbformat": 4,
 "nbformat_minor": 4
}

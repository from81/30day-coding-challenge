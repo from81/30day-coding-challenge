{
 "cells": [
  {
   "cell_type": "code",
   "execution_count": 11,
   "metadata": {},
   "outputs": [],
   "source": [
    "from collections import *\n",
    "import os\n",
    "from pprint import pprint\n",
    "import random\n",
    "import sys\n",
    "import time\n",
    "from typing import *\n",
    "sys.path.append(os.path.join(os.getcwd(), 'algorithms'))\n",
    "\n",
    "import numpy as np\n",
    "import plotly.express as px"
   ]
  },
  {
   "cell_type": "markdown",
   "metadata": {},
   "source": [
    "# Asymptotic Analysis"
   ]
  },
  {
   "cell_type": "markdown",
   "metadata": {},
   "source": [
    "If $f$, $g$ are functions, then informally\n",
    " \n",
    "- $f = O(g)$ Worst-Case (Upper-bound)\n",
    "    - if eventually $f$ grows slower than some multiple of g\n",
    "- $f = \\omega(g)$ Best-Case (Lower-bound)\n",
    "    - if eventually $f$ grows faster than some multiple of g\n",
    "- $f = \\theta(g)$ Tight-bound\n",
    "    - if eventually $f$ grows at the same rate as g"
   ]
  },
  {
   "cell_type": "markdown",
   "metadata": {},
   "source": [
    "## Time Complexity"
   ]
  },
  {
   "cell_type": "markdown",
   "metadata": {},
   "source": [
    "- $O(1)$: Constant-time algorithm runs in a constant time no matter how large the input is. For example, checking whether the first byte of a file is null `(0x00)` is constant time; no matter how large the file is, we only need to inspect the first byte. As another example, programs that ignore their input and compute the answer to a specific problem are also constant-time, even though this problem might take a very long time.\n",
    "- $O\\left( \\log n \\right)$: Logarithmic-time algorithm runs in time proportional to the logarithm of the input. The most common example is perhaps binary search: given a sorted array (with random access) of nn elements, we can find whether a specific item is in the array or not by using binary search, dividing the search space by half by checking the middle element.\n",
    "- $O(n)$: Linear-time algorithm runs in time proportional to the input. This can be good or bad: when $n$ is the number of elements in an array of integers, radix sorting allows us to sort it in linear-time, a very good performance, but when $n$ is a positive integer and we want to check whether it's prime, doing trial division over all numbers $2, 3, \\ldots, n-1$ is a poor performance.\n",
    "- $O(n \\log n)$: Often encountered in sorting algorithms, a linearithmic-time algorithm runs in time that's not particularly distinguishable from linear-time for \"reasonable\" input. Many comparison-based sorting algorithms (merge sort, heap sort, etc.) take linearithmic-time, because it has been proven to be the best running time possible for comparison-based sorting algorithms.\n",
    "- $O(n^2)$: Quadratic-time algorithms take time proportional to the square of the input. Example algorithms that take this time are schoolbook multiplication of two $n$-digit numbers or two polynomials of degree $n$ (faster algorithms exist, such as Karatsuba's algorithm), some slow sorting algorithms (selection sort and insertion sort), and solving the longest common subsequence problem using dynamic programming.\n",
    "- $O(n^3)$: The most common cubic-time algorithms are perhaps the running times of schoolbook matrix multiplication (again, faster algorithms exist such as Strassen's algorithm), computing determinant using Gaussian elimination (which can be done using matrix multiplication) and finding a triangle in a graph of nn vertices (which can also be done using matrix multiplication). Other than that, a cubic-time algorithm will likely have the structure of a loop through nn values inside another loop of nn values inside a third loop of nn values; the three examples above naturally give rise to this structure, but it's uncommon to see any other.\n",
    "- $O(a^n)$: For an exponential-time algorithm, increasing the input by one is enough to multiply the algorithm's running time (by $a$). Note that if $a < b$, then $a^n = o(b^n)$ (they are not asymptotically the same). An example of this is to evaluate whether a Boolean formula on nn variables can be satisfied; trying each possibility requires $2^n$ cases to be checked (multiplied by the time it takes to actually evaluate the formula).\n",
    "- $O(n!)$: A factorial-time algorithm is even slower. Such algorithms often check every permutation of an array, in which there are $n!$ of them.\n",
    "\n",
    "Poly-time: When function $f$ grows as a function of $n$\n",
    "\n",
    "- $n, n^2, log(n)$\n",
    "- Not poly-time: $2^n$"
   ]
  },
  {
   "cell_type": "markdown",
   "metadata": {},
   "source": [
    "![img](img/bigo.png)"
   ]
  },
  {
   "cell_type": "markdown",
   "metadata": {
    "collapsed": "true"
   },
   "source": [
    "# Array, Stack, Queue"
   ]
  },
  {
   "cell_type": "code",
   "execution_count": 2,
   "metadata": {},
   "outputs": [],
   "source": [
    "from collections import deque\n",
    "import heapq\n",
    "from queue import PriorityQueue"
   ]
  },
  {
   "cell_type": "code",
   "execution_count": 3,
   "metadata": {},
   "outputs": [
    {
     "name": "stdout",
     "output_type": "stream",
     "text": [
      "100\n"
     ]
    },
    {
     "data": {
      "text/plain": [
       "deque([3, 11, 4, 6, 9, 5, 2, 6, 13])"
      ]
     },
     "execution_count": 3,
     "metadata": {},
     "output_type": "execute_result"
    }
   ],
   "source": [
    "q = deque([3, 11, 4, 6, 9, 5, 2, 6, 13])\n",
    "\n",
    "q.appendleft(100)\n",
    "print(q.popleft())\n",
    "q"
   ]
  },
  {
   "cell_type": "code",
   "execution_count": 4,
   "metadata": {},
   "outputs": [
    {
     "name": "stdout",
     "output_type": "stream",
     "text": [
      "13\n",
      "11\n",
      "9\n",
      "6\n",
      "6\n"
     ]
    }
   ],
   "source": [
    "# map heap\n",
    "h = []\n",
    "for num in [3, 11, 4, 6, 9, 5, 2, 6, 13]:\n",
    "    heapq.heappush(h, -num)\n",
    "\n",
    "for i in range(5):\n",
    "    print(-heapq.heappop(h))"
   ]
  },
  {
   "cell_type": "code",
   "execution_count": 5,
   "metadata": {},
   "outputs": [
    {
     "name": "stdout",
     "output_type": "stream",
     "text": [
      "2\n",
      "3\n",
      "4\n",
      "5\n",
      "6\n"
     ]
    }
   ],
   "source": [
    "# min heap\n",
    "h = []\n",
    "for num in [3, 11, 4, 6, 9, 5, 2, 6, 13]:\n",
    "    heapq.heappush(h, num)\n",
    "\n",
    "for i in range(5):\n",
    "    print(heapq.heappop(h))"
   ]
  },
  {
   "cell_type": "code",
   "execution_count": 6,
   "metadata": {},
   "outputs": [
    {
     "name": "stdout",
     "output_type": "stream",
     "text": [
      "2\n",
      "3\n",
      "4\n",
      "5\n",
      "6\n"
     ]
    }
   ],
   "source": [
    "q = PriorityQueue()\n",
    "for num in [3, 11, 4, 6, 9, 5, 2, 6, 13]:\n",
    "    q.put(num)\n",
    "    \n",
    "for i in range(5):\n",
    "    print(q.get())"
   ]
  },
  {
   "cell_type": "markdown",
   "metadata": {},
   "source": [
    "\n",
    "# Linked List"
   ]
  },
  {
   "cell_type": "code",
   "execution_count": 15,
   "metadata": {},
   "outputs": [],
   "source": [
    "# %load algorithms/linked_list.py"
   ]
  },
  {
   "cell_type": "code",
   "execution_count": 16,
   "metadata": {},
   "outputs": [
    {
     "name": "stdout",
     "output_type": "stream",
     "text": [
      "53, 94, 21, 20, 32, 3, 10, 35, 81, 79, 25, 56, 1, 60, 28, 91, 25, 46, 39, 12\n",
      "reversed 12, 39, 46, 25, 91, 28, 60, 1, 56, 25, 79, 81, 35, 10, 3, 32, 20, 21, 94, 53\n"
     ]
    }
   ],
   "source": [
    "from algorithms.linked_list import Node, LinkedList\n",
    "\n",
    "ll = LinkedList()\n",
    "ll.insert(np.random.randint(0, 100, size=20))\n",
    "print(ll)\n",
    "ll.reverse()\n",
    "print('reversed', ll)"
   ]
  },
  {
   "cell_type": "markdown",
   "metadata": {},
   "source": [
    "## Doubly linked list"
   ]
  },
  {
   "cell_type": "code",
   "execution_count": 17,
   "metadata": {},
   "outputs": [],
   "source": [
    "# %load algorithms/doubly_linked_list.py"
   ]
  },
  {
   "cell_type": "code",
   "execution_count": 18,
   "metadata": {},
   "outputs": [
    {
     "name": "stdout",
     "output_type": "stream",
     "text": [
      "77, 68, 71, 58, 15, 44, 41, 47, 77, 39, 25, 86, 78, 25, 98, 23, 17, 51, 46, 40\n",
      "reversed 40, 46, 51, 17, 23, 98, 25, 78, 86, 25, 39, 77, 47, 41, 44, 15, 58, 71, 68, 77\n"
     ]
    }
   ],
   "source": [
    "from algorithms.doubly_linked_list import Node, DoublyLinkedList\n",
    "\n",
    "ll = DoublyLinkedList()\n",
    "ll.insert(np.random.randint(0, 100, size=20))\n",
    "print(ll)\n",
    "ll.reverse()\n",
    "print('reversed', ll)"
   ]
  },
  {
   "cell_type": "markdown",
   "metadata": {},
   "source": [
    "# Binary Search Tree"
   ]
  },
  {
   "cell_type": "code",
   "execution_count": 19,
   "metadata": {},
   "outputs": [],
   "source": [
    "# %load algorithms/binary_search_tree.py"
   ]
  },
  {
   "cell_type": "code",
   "execution_count": 20,
   "metadata": {},
   "outputs": [
    {
     "name": "stdout",
     "output_type": "stream",
     "text": [
      "3: (1: (-4: (-8: (None, -8), -2: (-4, -2)), 1), 5: (4, 6: (5: (None, 5), 8: (6, 8))))\n",
      "max: 8\n",
      "min: 1\n"
     ]
    }
   ],
   "source": [
    "from algorithms.binary_search_tree import BinarySearchTree, TreeNode\n",
    "\n",
    "nums = [3, 5, 1, 1, 4, 6, 8, 5, -4, -2, -8, 6, 8, 5, -4, -2, -8]\n",
    "tree = BinarySearchTree()\n",
    "tree.insert(nums)\n",
    "print(tree)\n",
    "print('max:', tree.get_max())\n",
    "print('min:', tree.get_min())"
   ]
  },
  {
   "cell_type": "markdown",
   "metadata": {},
   "source": [
    "# Binary Tree"
   ]
  },
  {
   "cell_type": "code",
   "execution_count": 21,
   "metadata": {},
   "outputs": [],
   "source": [
    "# %load algorithms/binary_tree.py"
   ]
  },
  {
   "cell_type": "code",
   "execution_count": 22,
   "metadata": {},
   "outputs": [
    {
     "name": "stdout",
     "output_type": "stream",
     "text": [
      "depth: 5\n",
      "tree:\n",
      "3: (5: (1: (5: (-2, -8), -4), 4: (-2, -8)), 1: (6: (6, 8), 8: (5, -4)))\n",
      "inverted tree:\n",
      "3: (1: (8: (-4, 5), 6: (8, 6)), 5: (4: (-8, -2), 1: (-4, 5: (-8, -2))))\n"
     ]
    }
   ],
   "source": [
    "from algorithms.binary_tree import BinaryTree, TreeNode, maxDepth_DFS, invertTree\n",
    "\n",
    "nums = [3, 5, 1, 1, 4, 6, 8, 5, -4, -2, -8, 6, 8, 5, -4, -2, -8]\n",
    "tree = BinaryTree()\n",
    "tree.insert(nums)\n",
    "d = maxDepth_DFS(tree.root)\n",
    "print('depth:', d)\n",
    "print('tree:')\n",
    "print(tree)\n",
    "print('inverted tree:')\n",
    "print(invertTree(tree.root))"
   ]
  },
  {
   "cell_type": "markdown",
   "metadata": {},
   "source": [
    "# Graph"
   ]
  },
  {
   "cell_type": "markdown",
   "metadata": {},
   "source": [
    "## Definitions\n",
    "\n",
    "Edges can be directed or undirected\n",
    "\n",
    "An undirected graph is connected if for every pair of nodes u and v, there is a path between u and v.\n",
    "\n",
    "- A graph is connected if and only if DFS results in a single tree.\n",
    "- In a connected graph, an edge $e$ is called a “cut edge” if its removal would disconnect the graph\n",
    "\n",
    "A graph is strongly connected if every pair of nodes is mutually reachable.\n",
    "\n",
    "A cycle is a path $v_1, v_2, \\dots, v_k$ in which $v_1 = v_k, k > 2,$ and the first $k-1$ nodes are all distinct.\n",
    "\n",
    "An undirected graph is a tree if it is connected and does not contain a cycle.\n",
    "\n",
    "- Let $G$ be an undirected graph on $n$ nodes. Any two of the following statements imply the third.\n",
    "    - $G$ is connected.\n",
    "    - $G$ does not contain a cycle.\n",
    "    - $G$ has $n-1$ edges.\n",
    "    \n",
    "### Traversal\n",
    "\n",
    "![img](img/dfs.jpg)\n",
    "\n",
    "- DFS\n",
    "    - check if path `s -> t` exists\n",
    "    - usually implemented recursively\n",
    "- BFS\n",
    "    - find shortest path\n",
    "    - implemented with a dequeue and set to keep track of visited nodes\n",
    "    \n",
    "![img](img/bfs.jpg)"
   ]
  },
  {
   "cell_type": "markdown",
   "metadata": {},
   "source": [
    "## Analysis\n",
    "\n",
    "- BFS\n",
    "    - more memory than DFS, but guaranteed to find shortest path if the graph is connected\n",
    "    - BFS runs in $O(m + n)$ or $O(2m)$ time if the graph is given by its adjacency list representation. $\\sum_{u\\in V}deg(u)$\n",
    "- DFS\n",
    "    - less memory than BFS, will not necessarily find shortest path.\n",
    "    - A graph is connected if and only if DFS results in a single tree.\n",
    "    - Running time: $O(m + n)$\n",
    "    - Subset of edges in DFS that “discover a new node” form a forest (a collection of trees)\n",
    "    - each tree in the DFS result corresponds to a connected component\n",
    "- Traverse all neighbors of a node u:\n",
    "    - Adjacency list: $O(\\text{number of neighbors}) = O(deg(u))$\n",
    "    - Adjacency matrix: $O(n)$\n",
    "- Check if u and v are connected by an edge\n",
    "    - Adjacency list: $O(\\text{number of neighbors}) = O(deg(u)) \\text{ or } O(deg(v))$\n",
    "    - Adjacency matrix: $O(1)$\n",
    "- Finding \"cut edges\"\n",
    "    1. straightforward\n",
    "        ```\n",
    "        for edge in G.edges:\n",
    "            remove edge from G\n",
    "            check if G is connected (running DFS for example)\n",
    "            \n",
    "        ``` \n",
    "        - $O(m^2)$ running time\n",
    "    2. we can do better\n",
    "        ```\n",
    "        # run DFS on graph G\n",
    "        for edge in DFStree:\n",
    "            remove edge from graph G\n",
    "            check if G is disconnected (using DFS)\n",
    "        ```\n",
    "        - $O(nm)$ running time\n",
    "- Determine if graph $G$ is strongly connected\n",
    "    - $O(m + n)$ time\n",
    "    - algo\n",
    "        1. pick any node $s$\n",
    "        2. run BFS from s in $G$\n",
    "        3. run BFS from s in $G^{rev}$, a graph with reverse orientation of every edge in $G$\n",
    "        4. return True if and only if all nodes reached in both BFS executions"
   ]
  },
  {
   "cell_type": "markdown",
   "metadata": {},
   "source": [
    "## Graph Representations\n",
    "\n",
    "\n",
    "    edges = [(0, 1), (0, 2), (0, 3), (2, 4), (1, 4)]\n",
    "\n",
    "\n",
    "### Adjacency Matrix\n",
    "\n",
    "Matrix $A\\in n \\times n$ where $A_{uv} = 1$ if $(u, v)$ is an edge, otherwise 0.\n",
    "- two representation of each edge\n",
    "- diagonally symmetric if undirected graph, assymetrix if directed graph\n",
    "- space proportional to $n^2$ or $O(|V|^2)$\n",
    "    - i.e. $|V|=$ number of nodes\n",
    "- checking if $(u, v) \\in A$ takes $\\theta(1)$ time\n",
    "- identifying all edges takes $\\theta(n^2)$\n",
    "- for directed graphs, $A_{ij}$ represent an edge going from node i to j\n",
    "\n",
    "\n",
    "    [0, 1, 1, 1, 0]\n",
    "    [1, 0, 0, 0, 1]\n",
    "    [1, 0, 0, 0, 1]\n",
    "    [1, 0, 0, 0, 0]\n",
    "    [0, 1, 1, 0, 0]\n",
    "    \n",
    "### Adjacency List\n",
    "\n",
    "Node indexed array of lists.\n",
    "- two representation of each edge\n",
    "- space proportional to $m + n$ or $O(|V|+|E|)$\n",
    "- checking if $(u, v) \\in A$ takes $O(deg(u))$ time, where $deg(u)=$ number of nodes (vertices) connected to $u$\n",
    "- identifying all edges takes $\\theta(m + n)$ time\n",
    "\n",
    "\n",
    "    0: [1, 2, 3]\n",
    "    1: [0, 4]\n",
    "    2: [0, 4]\n",
    "    3: [0]\n",
    "    4: [1, 2]"
   ]
  },
  {
   "cell_type": "code",
   "execution_count": 23,
   "metadata": {},
   "outputs": [],
   "source": [
    "# %load algorithms/graph.py"
   ]
  },
  {
   "cell_type": "code",
   "execution_count": 24,
   "metadata": {},
   "outputs": [
    {
     "name": "stdout",
     "output_type": "stream",
     "text": [
      "directed: False\n",
      "adjacency matrix\n",
      "[0, 1, 1, 1, 0]\n",
      "[1, 0, 0, 0, 1]\n",
      "[1, 0, 0, 0, 1]\n",
      "[1, 0, 0, 0, 0]\n",
      "[0, 1, 1, 0, 0]\n",
      "\n",
      "adjacency list\n",
      "0: [1, 2, 3]\n",
      "1: [0, 4]\n",
      "2: [0, 4]\n",
      "3: [0]\n",
      "4: [1, 2]\n"
     ]
    }
   ],
   "source": [
    "from algorithms.graph import Graph\n",
    "\n",
    "edges = [(0, 1), (0, 2), (0, 3), (2, 4), (1, 4)]\n",
    "directed = False\n",
    "graph = Graph.from_edges(edges, directed)\n",
    "print('directed:', directed)\n",
    "print('adjacency matrix')\n",
    "for row in graph.adjacency_matrix:\n",
    "    print(row)\n",
    "\n",
    "print('\\nadjacency list')\n",
    "adj_list = graph.get_adjacency_list()\n",
    "for i, row in enumerate(adj_list):\n",
    "    print(f'{i}: {row}')"
   ]
  },
  {
   "cell_type": "code",
   "execution_count": 25,
   "metadata": {},
   "outputs": [
    {
     "name": "stdout",
     "output_type": "stream",
     "text": [
      "directed: True\n",
      "adjacency matrix\n",
      "[0, 1, 1, 1, 0]\n",
      "[0, 0, 0, 0, 1]\n",
      "[0, 0, 0, 0, 1]\n",
      "[0, 0, 0, 0, 0]\n",
      "[0, 0, 0, 0, 0]\n",
      "\n",
      "adjacency list\n",
      "0: [1, 2, 3]\n",
      "1: [4]\n",
      "2: [4]\n",
      "3: []\n",
      "4: []\n"
     ]
    }
   ],
   "source": [
    "directed = True\n",
    "graph = Graph.from_edges(edges, directed)\n",
    "print('directed:', directed)\n",
    "print('adjacency matrix')\n",
    "for row in graph.adjacency_matrix:\n",
    "    print(row)\n",
    "\n",
    "print('\\nadjacency list')\n",
    "adj_list = graph.get_adjacency_list()\n",
    "for i, row in enumerate(adj_list):\n",
    "    print(f'{i}: {row}')"
   ]
  },
  {
   "cell_type": "markdown",
   "metadata": {},
   "source": [
    "## Directed Acyclic Graph (DAG)\n",
    "\n",
    "- A DAG is a directed graph that contains no directed cycles.\n",
    "- if $e\\in E$ and $e = (u, v)$, then `u -> v` path dependency exists (Precedence constraints)\n",
    "- if graph $G$ has a topological order, then $G =$ DAG, vice versa\n",
    "- if graph $G$ is a DAG, then $G$ has one or more nodes that have no incoming edges\n",
    "\n",
    "### Topological Order\n",
    "\n",
    "A topological order of a directed graph $G = (V, E)$ is an ordering of its nodes as $v_1, v_2, \\dots, v_k$ such that we have $i < j$ $\\forall e(v_i, v_j) \\in E$\n",
    "- in other words: for every edge $e$ from $v_i$ to $v_j$, $i$ is less than $j$)\n",
    "- mental image: all edges pointing from left to right. $v_1$ doesn't have to necessarily be the only source node, multiple nodes can have no incoming edges\n",
    "- time complexity: $O(m + n)$\n",
    "- applications\n",
    "    - course prerequisite graph\n",
    "    - workflow management (Airflow)\n"
   ]
  },
  {
   "cell_type": "markdown",
   "metadata": {
    "toc-hr-collapsed": true,
    "toc-nb-collapsed": true
   },
   "source": [
    "## Misc\n",
    "\n",
    "### Transitive Closure\n",
    "\n",
    "The transitive closure graph of $G$ is a graph $G’$:\n",
    "\n",
    "- with the same vertices as $G$, and\n",
    "- with an edge between all pairs of nodes that are connected by a path in $G$\n",
    "\n",
    "### Bipartite Graphs\n",
    "\n",
    "An undirected graph $G = (V, E)$ is bipartite if the nodes can be colored red or blue such that every edge connects a red node and a blue node\n",
    "\n",
    "- Applications\n",
    "    - stable marriage (stable matching?)\n",
    "    - scheduling: machines = red, jobs = blue\n",
    "- testing bipartiteness\n",
    "    - Many graph problems become:\n",
    "        - easier if the underlying graph is bipartite (matching)\n",
    "        - tractable if the underlying graph is bipartite (independent set)\n",
    "    - If a graph $G$ is bipartite, then it cannot contain an odd length cycle."
   ]
  },
  {
   "cell_type": "markdown",
   "metadata": {},
   "source": [
    "# Greedy Algorithms"
   ]
  },
  {
   "cell_type": "markdown",
   "metadata": {},
   "source": [
    "> A greedy algorithm is an algorithm that follows the problem solving heuristic of making the **locally optimal** choice at each stage with the hope of finding a **global optimum**.\n",
    "\n",
    "Typical problems\n",
    "\n",
    "- Coin change problem\n",
    "    - Given a set of coins, $c=\\{5, 10, 20, 50\\}$, and an amount of change, $x$, find the smellest collection of coins which add up to the change\n",
    "- Conversion from decimal to binary, vice versa\n",
    "- Interval Scheduling\n",
    "- [Dijkstra's Shortest Path](#Dijkstra's-Shortest-Path)\n",
    "- Clustering\n",
    "\n",
    "Some other places where a greedy algorithm gets you the best solution:\n",
    "\n",
    "- Trying to fit as many overlapping meetings as possible in a conference room? At each step, schedule the meeting that *ends* earliest.\n",
    "- Looking for a minimum spanning tree in a [graph](https://www.interviewcake.com/concept/graph)? At each step, greedily pick the cheapest edge that reaches a new vertex.\n",
    "\n",
    "**Careful: sometimes a greedy algorithm *doesn't* give you an optimal solution:**\n",
    "\n",
    "- [When filling a duffel bag with cakes of different weights and values](https://www.interviewcake.com/question/cake-thief), choosing the cake with the highest value per pound doesn't always produce the best haul.\n",
    "- To find the cheapest route visiting a set of cities, choosing to visit the cheapest city you haven't been to yet doesn't produce the cheapest overall itinerary."
   ]
  },
  {
   "cell_type": "markdown",
   "metadata": {},
   "source": [
    "Inversions\n",
    "\n",
    "An inversion in schedule $S$ is a pair of jobs $(i, k)$ such that $i < k$ (by deadline) but $k$ is scheduled before $i$.\n",
    "\n",
    "![img](img/inversion.png)\n",
    "\n",
    "Greedy algorithm doesn't create inversions"
   ]
  },
  {
   "cell_type": "markdown",
   "metadata": {},
   "source": [
    "## Coin Change"
   ]
  },
  {
   "cell_type": "code",
   "execution_count": 26,
   "metadata": {},
   "outputs": [
    {
     "name": "stdout",
     "output_type": "stream",
     "text": [
      "50\n",
      "25\n",
      "10\n",
      "10\n"
     ]
    },
    {
     "data": {
      "text/plain": [
       "4"
      ]
     },
     "execution_count": 26,
     "metadata": {},
     "output_type": "execute_result"
    }
   ],
   "source": [
    "def coinChange(c: List, x: int) -> int:\n",
    "    cur = c.pop()\n",
    "    change = 0\n",
    "    while x > 0:\n",
    "        if x >= cur:\n",
    "            print(cur)\n",
    "            x -= cur\n",
    "            change += 1\n",
    "        else:\n",
    "            cur = c.pop()\n",
    "            \n",
    "    return change\n",
    "\n",
    "c = [1, 5, 10, 25, 50]\n",
    "x = 95\n",
    "coinChange(c, x)"
   ]
  },
  {
   "cell_type": "markdown",
   "metadata": {},
   "source": [
    "1. Choose the largest coin less than the amount $x$\n",
    "2. Subtract the value of coin from $x$\n",
    "3. Repeat until amount = 0\n",
    "\n",
    "- may not work depending on the set $c$\n",
    "- Will always work if each coin is an integer multiple of the next smallest denomination e.g. $c=\\{40, 20, 10, 1\\}$\n",
    "    - Proof: Can always replace multiple lower denominations (e.g. 2x20c) with fewer higher denominations (1x40c), so the lower denominations will only add up to at most one less than a higher denomination (e.g. there is at most 1x20c, 1x10c, and 9x1c)"
   ]
  },
  {
   "cell_type": "markdown",
   "metadata": {},
   "source": [
    "## Interval Scheduling"
   ]
  },
  {
   "cell_type": "code",
   "execution_count": 31,
   "metadata": {},
   "outputs": [],
   "source": [
    "# https://leetcode.com/problems/non-overlapping-intervals/discuss/276056/Python-Greedy-Interval-Scheduling\n",
    "\n",
    "\"\"\"\n",
    "Given a collection of intervals, find the minimum number of intervals \n",
    "you need to remove to make the rest of the intervals non-overlapping.\n",
    "\"\"\"\n",
    "\n",
    "def eraseOverlapIntervals(intervals):\n",
    "\tend, cnt = float('-inf'), 0\n",
    "\tfor i in sorted(intervals, key=lambda x: x[1]):\n",
    "\t\tif i[0] >= end: \n",
    "\t\t\tend = i[1]\n",
    "\t\telse: \n",
    "\t\t\tcnt += 1\n",
    "\treturn cnt\n",
    "\n",
    "assert eraseOverlapIntervals([[1,2],[1,2],[1,2]]) == 2"
   ]
  },
  {
   "cell_type": "markdown",
   "metadata": {},
   "source": [
    "The heuristic is: always pick the interval with the earliest end time. Then you can get the maximal number of non-overlapping intervals. (or minimal number to remove).\n",
    "This is because, the interval with the earliest end time produces the maximal capacity to hold rest intervals.\n",
    "\n",
    "E.g. Suppose current earliest end time of the rest intervals is `x`. Then available time slot left for other intervals is `[x:]`. If we choose another interval with end time `y`, then available time slot would be `[y:]`. Since `x ≤ y`, there is no way `[y:]` can hold more intervals then `[x:]`. Thus, the heuristic holds.\n",
    "\n",
    "Therefore, we can sort interval by ending time and key track of current earliest end time. Once next interval's start time is earlier than current end time, then we have to remove one interval. Otherwise, we update earliest end time.\n",
    "\n",
    "- Time complexity is $O(nlog(n))$ as sort overwhelms greedy search."
   ]
  },
  {
   "cell_type": "markdown",
   "metadata": {},
   "source": [
    "# Divide and Conquer"
   ]
  },
  {
   "cell_type": "markdown",
   "metadata": {},
   "source": [
    "- Break up problem into several parts.\n",
    "- Solve each part recursively.\n",
    "- Combine solutions to sub-problems into overall solution.\n",
    "\n",
    "Steps\n",
    "\n",
    "- Break up problem of size $n$ into two equal parts of size $\\frac{n}{2}$.\n",
    "- Solve two parts recursively.\n",
    "- Combine two solutions into overall solution in linear time.\n",
    "\n",
    "Use case\n",
    "- Sorting\n",
    "- Binary Search\n",
    "- BST\n",
    "- Closest pair of points - Given $n$ points in the plane, find a pair with smallest Euclidean distance between them\n",
    "- Karatsuba Multiplication\n",
    "\n",
    "Runtime: $O(n \\log n)$\n",
    "\n",
    "Time: $T(\\frac{n}{2})+O(1)$"
   ]
  },
  {
   "cell_type": "markdown",
   "metadata": {},
   "source": [
    "## Master Theorem"
   ]
  },
  {
   "cell_type": "markdown",
   "metadata": {},
   "source": [
    "The master theorem provides a solution to recurrence relations of the form\n",
    "\n",
    "$$T(n)=a T\\left(\\frac{n}{b}\\right)+f(n)$$\n",
    "\n",
    "for constants $a \\ge 1$ and $b > 1$ with $f$ asymptotically positive, the following statements are true:\n",
    "\n",
    "- Case 1. If $f(n)=O\\left(n^{\\log _{b} a-\\epsilon}\\right)$ for some $\\epsilon>0,$ then $T(n)=\\Theta\\left(n^{\\log _{b} a}\\right)$\n",
    "- Case 2. If $f(n)=\\Theta\\left(n^{\\log _{b} a}\\right),$ then $T(n)=\\Theta\\left(n^{\\log _{b} a} \\log n\\right)$\n",
    "- Case $\\left.3 \\text { . If } f(n)=\\Omega\\left(n^{\\log _{b} a+\\epsilon}\\right) \\text { for some } \\epsilon>0 \\text { (and } a f\\left(\\frac{n}{b}\\right) \\leq c f(n) \\text { for some } c<1 \\text { for all } n \\text { sufficiently large }\\right)$, then $T(n)=\\Theta(f(n))$\n",
    "\n",
    "\n",
    "For instance, one can show that runtime of the merge sort algorithm satisfies\n",
    "\n",
    "$$T(n)=2T\\left(\\frac{n}{2}\\right)+n$$\n",
    "\n",
    "Similarly, traversing a binary tree takes time\n",
    "\n",
    "$$T(n)=2T\\left(\\frac{n}{2}\\right)+O(1)$$\n",
    "\n",
    "By comparing $\\log_b{a}$ to the asymptotic behavior of $f(n)$, the master theorem provides a solution to many frequently seen recurrences.\n",
    "\n",
    "\n",
    "Simply put, if $f(n)$ is polynomially smaller than $n^{\\log_b{a}}$, then $n^{\\log_b{a}}$ dominates, and the runtime is $\\Theta\\left(n^{\\log_b{a}}\\right)$. If $f(n)$ is instead polynomially larger than $n^{\\log_b{a}}$, then $f(n)$ dominates, and the runtime is $\\Theta\\big(f(n)\\big)$. Finally, if $f(n)$ and $n^{\\log_b{a}}$ are asymptotically the same, then $T(n) = \\Theta\\left(n^{\\log_b{a}} \\log{n} \\right)$.\n",
    "\n",
    "Invalid (incorrect) use of Master Theorem\n",
    "![img](img/master.png)\n",
    "\n",
    "Reference\n",
    "\n",
    "- https://brilliant.org/wiki/master-theorem/\n"
   ]
  },
  {
   "cell_type": "markdown",
   "metadata": {},
   "source": [
    "## Sort\n",
    "\n",
    "- Merge sort\n",
    "    - steps\n",
    "        1. Divide array into two halves\n",
    "        2. Recursively sort each half\n",
    "        3. Merge two halves to make sorted whole\n",
    "    - $T(n) = O(n \\log_{2}n)$"
   ]
  },
  {
   "cell_type": "markdown",
   "metadata": {},
   "source": [
    "## Find closest pair of points\n",
    "\n",
    "Given a list of $n$ points of form $(i, j)$ in a 2D plane, find a pair with smallest Euclidean distance between them.\n",
    "\n",
    "Algorithm\n",
    "1. Divide: Divide the plane in roughly half\n",
    "2. Conquer: Find closest pair in each sides recursively\n",
    "3. Combine: Find closest pair with one point in each side\n",
    "    - Only need to consider points located less than $min(d_L, d_R)$ distance from the border drawn in #1, where $d_L,d_R$ are the distances between the closest pair of points in each side.\n",
    "4. Return best of 3 solutions\n",
    "\n",
    "Analysis\n",
    "\n",
    "$$T(n) \\le 2T(\\frac{n}{2})+O(n \\log n) \\rightarrow T(n) = O(n \\log^{2}n)$$\n",
    "\n"
   ]
  },
  {
   "cell_type": "markdown",
   "metadata": {},
   "source": [
    "## Karatsuba Multiplication"
   ]
  },
  {
   "cell_type": "code",
   "execution_count": 74,
   "metadata": {},
   "outputs": [],
   "source": [
    "def karat(x,y):\n",
    "    if len(str(x)) == 1 or len(str(y)) == 1:\n",
    "        return x*y\n",
    "    else:\n",
    "        m = max(len(str(x)),len(str(y)))\n",
    "        m2 = m // 2\n",
    "\n",
    "        a = x // 10**(m2)\n",
    "        b = x % 10**(m2)\n",
    "        c = y // 10**(m2)\n",
    "        d = y % 10**(m2)\n",
    "\n",
    "        z0 = karat(b,d)\n",
    "        z1 = karat((a+b),(c+d))\n",
    "        z2 = karat(a,c)\n",
    "\n",
    "        return (z2 * 10**(2*m2)) + ((z1 - z2 - z0) * 10**(m2)) + (z0)"
   ]
  },
  {
   "cell_type": "markdown",
   "metadata": {},
   "source": [
    "# Network Flows (Edge Weighted graph)"
   ]
  },
  {
   "cell_type": "markdown",
   "metadata": {},
   "source": [
    "A weighted graph is interesting because it has little to do with whether the graph is directed, undirected, or contains cycles. At its core, a weighted graph is a graph whose edges have some sort of value that is associated with them. The value that is attached to an edge is what gives the edge its “weight”.\n",
    "\n",
    "A common way to refer to the “weight” of a single edge is by thinking of it as the cost or distance between two nodes. In other words, to go from node a to node b has some sort of cost to it.\n",
    "Or, if we think of the nodes like locations on a map, then the weight could instead be the distance between nodes $a$ and $b$. Continuing with the map metaphor, the “weight” of an edge can also represent the capacity of what can be transported, or what can be moved between two nodes, $a$ and $b$.\n",
    "\n",
    "## Representation\n",
    "\n",
    "Adjacency Matrix\n",
    "\n",
    "- one difference from unweighted graphs: instead of being binary, $A_{ij}$ indicate weighted edge from `i -> j` with weight $A_{ij}$\n",
    "\n",
    "\n",
    "    [0, 5, 14, 0, 0, 0, 0, 0, 0]\n",
    "    [0, 0, 4, 0, 3, 0, 0, 0, 0]\n",
    "    [0, 0, 0, 0, 0, 7, 0, 0, 0]\n",
    "    [0, 0, 0, 0, 0, 0, 6, 6, 0]\n",
    "    [0, 0, 0, 8, 0, 0, 0, 4, 0]\n",
    "    [0, 6, 0, 0, 3, 0, 0, 6, 0]\n",
    "    [0, 0, 0, 0, 0, 0, 0, 0, 10]\n",
    "    [0, 0, 0, 0, 0, 0, 0, 0, 8]\n",
    "    [0, 0, 0, 0, 0, 0, 0, 0, 0]"
   ]
  },
  {
   "cell_type": "markdown",
   "metadata": {},
   "source": [
    "## Dijkstra's Shortest Path"
   ]
  },
  {
   "cell_type": "markdown",
   "metadata": {},
   "source": [
    "Dijkstra’s algorithm can be used to determine the shortest path from one node in a graph to every other node within the same graph data structure, provided that the nodes are reachable from the starting node.\n",
    "\n",
    "This algorithm will continue to run until all of the reachable vertices in a graph have been visited, which means that we could run Dijkstra’s algorithm, find the shortest path between any two reachable nodes, and then save the results somewhere. Once we run Dijkstra’s algorithm just once, we can look up our results from our algorithm again and again — without having to actually run the algorithm itself!\n",
    "\n",
    "### Analysis\n",
    "\n",
    "- Dijkstra's Shortest Path is a greedy algorithm\n",
    "- The shortest path between two vertices in a graph $G$ with $n$ vertices and $m$ edges can be computed in $O(m+n log(n))$ time.\n",
    "- Or using heap-based priority queue implementation $O(m log(n))$.\n",
    "\n",
    "### Links\n",
    "\n",
    "- [Dijkstra's Shortest Path Algorithm | Brilliant Math & Science Wiki](https://brilliant.org/wiki/dijkstras-short-path-finder/)\n",
    "- [Dijkstra's Algorithm](https://www.programiz.com/dsa/dijkstra-algorithm)\n",
    "- [Dijkstra's Algorithm - Shortest paths with Dijkstra's Algorithm](https://www.codingame.com/playgrounds/1608/shortest-paths-with-dijkstras-algorithm/dijkstras-algorithm)\n",
    "- [Finding The Shortest Path, With A Little Help From Dijkstra](https://medium.com/basecs/finding-the-shortest-path-with-a-little-help-from-dijkstra-613149fbdc8e)\n",
    "- [https://www.youtube.com/watch?v=K_1urzWrzLs](https://www.youtube.com/watch?v=K_1urzWrzLs)"
   ]
  },
  {
   "cell_type": "code",
   "execution_count": 28,
   "metadata": {},
   "outputs": [],
   "source": [
    "# %load algorithms/graph_weighted.py"
   ]
  },
  {
   "cell_type": "code",
   "execution_count": 30,
   "metadata": {},
   "outputs": [
    {
     "name": "stdout",
     "output_type": "stream",
     "text": [
      "\n",
      "Weighted Graph / Dijkstra's Shortest Path\n",
      "directed: True\n",
      "source -> dest, weight\n",
      "0 -> 2, 9\n",
      "0 -> 7, 15\n",
      "0 -> 6, 14\n",
      "2 -> 3, 24\n",
      "3 -> 1, 19\n",
      "3 -> 5, 2\n",
      "4 -> 1, 6\n",
      "4 -> 3, 6\n",
      "5 -> 1, 16\n",
      "5 -> 4, 11\n",
      "6 -> 5, 30\n",
      "6 -> 3, 18\n",
      "6 -> 7, 5\n",
      "7 -> 1, 44\n",
      "7 -> 5, 20\n",
      "adjacency list\n",
      "0: [2, 6, 7]\n",
      "1: []\n",
      "2: [3]\n",
      "3: [1, 5]\n",
      "4: [1, 3]\n",
      "5: [1, 4]\n",
      "6: [3, 5, 7]\n",
      "7: [1, 5]\n",
      "\n",
      "adjacency matrix\n",
      "[0, 0, 9, 0, 0, 0, 14, 15]\n",
      "[0, 0, 0, 0, 0, 0, 0, 0]\n",
      "[0, 0, 0, 24, 0, 0, 0, 0]\n",
      "[0, 19, 0, 0, 0, 2, 0, 0]\n",
      "[0, 6, 0, 6, 0, 0, 0, 0]\n",
      "[0, 16, 0, 0, 11, 0, 0, 0]\n",
      "[0, 0, 0, 18, 0, 30, 0, 5]\n",
      "[0, 44, 0, 0, 0, 20, 0, 0]\n",
      "Shortest distance:\n",
      "50\n"
     ]
    }
   ],
   "source": [
    "from algorithms.graph_weighted import WeightedGraph\n",
    "\n",
    "print(\"\\nWeighted Graph / Dijkstra's Shortest Path\")\n",
    "edges = [\n",
    "    (0, 2, 9), (0, 6, 14), (0, 7, 15),\n",
    "    (2, 3, 24), (3, 1, 19), (3, 5, 2),\n",
    "    (4, 3, 6), (4, 1, 6), (5, 1, 16),\n",
    "    (5, 4, 11), (6, 5, 30), (6, 7, 5),\n",
    "    (6, 3, 18), (7, 5, 20), (7, 1, 44)\n",
    "]\n",
    "directed = True\n",
    "graph = WeightedGraph.from_edges(edges, directed)\n",
    "print('directed:', directed)\n",
    "\n",
    "print('source -> dest, weight')\n",
    "for src, dest, weight in sorted(graph.get_edges(), key=lambda x: x[0]):\n",
    "    print(f'{src} -> {dest}, {weight}')\n",
    "\n",
    "print('adjacency list')\n",
    "adj_list = graph.get_adjacency_list()\n",
    "for i, row in enumerate(adj_list):\n",
    "    print(f'{i}: {row}')\n",
    "\n",
    "print('\\nadjacency matrix')\n",
    "for row in graph.adjacency_matrix:\n",
    "    print(row)\n",
    "\n",
    "print('Shortest distance:')\n",
    "src = 0\n",
    "dest = 1\n",
    "print(graph.dijkstra_shortest_path(src, dest))"
   ]
  },
  {
   "cell_type": "markdown",
   "metadata": {},
   "source": [
    "## Minimum Spanning Tree"
   ]
  },
  {
   "cell_type": "markdown",
   "metadata": {},
   "source": [
    "Given a connected graph $G = (V, E)$ with real-valued edge weights $c_e$ , a MST is a subset of the edges $T\\subseteq E$ such that $T$ is a spanning tree whose sum of edge weights is minimized.\n",
    "\n",
    "![img](img/mst.png)\n",
    "\n",
    "![img](img/mst2.png)"
   ]
  },
  {
   "cell_type": "markdown",
   "metadata": {},
   "source": [
    "Cayley's Theorem. There are $n^{n-2}$ spanning trees of $K_n$. Therefore this cannot be solved by brute force.\n",
    "\n",
    "Greedy Algorithms to find MST\n",
    "\n",
    "- Kruskal's Algorithm\n",
    "    – Start with $T = \\emptyset$. Consider edges in ascending order of cost. Insert edge $e$ in $T$ unless doing so would create a cycle.\n",
    "- Reverse-Delete algorithm\n",
    "    - Start with $T = E$. Consider edges in descending order of cost. Delete edge $e$ from $T$ unless doing so would disconnect $T$.\n",
    "- Prim's algorithm\n",
    "    - Start with some root node $s$ and greedily grow a tree $T$ from $s$ outward. At each step, add the cheapest edge $e$ to $T$ that has exactly one endpoint in $T$\n",
    "    \n",
    "https://peades.com/sketchbook/mst/mst.html"
   ]
  },
  {
   "cell_type": "markdown",
   "metadata": {},
   "source": [
    "## Max Flow - Ford-Fulkerson Algorithm"
   ]
  },
  {
   "cell_type": "markdown",
   "metadata": {},
   "source": [
    "- Ford Fulkerson == Edmond's Karp"
   ]
  },
  {
   "cell_type": "code",
   "execution_count": 30,
   "metadata": {},
   "outputs": [],
   "source": [
    "# %load algorithms/FordFulkerson.py"
   ]
  },
  {
   "cell_type": "code",
   "execution_count": 2,
   "metadata": {},
   "outputs": [
    {
     "name": "stdout",
     "output_type": "stream",
     "text": [
      "source -> dest, weight\n",
      "0 -> 2, 14\n",
      "0 -> 1, 5\n",
      "1 -> 2, 4\n",
      "1 -> 4, 3\n",
      "2 -> 5, 7\n",
      "3 -> 7, 6\n",
      "3 -> 6, 6\n",
      "4 -> 3, 8\n",
      "4 -> 7, 4\n",
      "5 -> 7, 6\n",
      "5 -> 1, 6\n",
      "5 -> 4, 3\n",
      "6 -> 8, 10\n",
      "7 -> 8, 8\n",
      "\n",
      "adjacency matrix\n",
      "[0, 5, 14, 0, 0, 0, 0, 0, 0]\n",
      "[0, 0, 4, 0, 3, 0, 0, 0, 0]\n",
      "[0, 0, 0, 0, 0, 7, 0, 0, 0]\n",
      "[0, 0, 0, 0, 0, 0, 6, 6, 0]\n",
      "[0, 0, 0, 8, 0, 0, 0, 4, 0]\n",
      "[0, 6, 0, 0, 3, 0, 0, 6, 0]\n",
      "[0, 0, 0, 0, 0, 0, 0, 0, 10]\n",
      "[0, 0, 0, 0, 0, 0, 0, 0, 8]\n",
      "[0, 0, 0, 0, 0, 0, 0, 0, 0]\n",
      "\n",
      "Max Flow: 10\n",
      "\n",
      "residual graph\n",
      "[0, 2, 7, 0, 0, 0, 0, 0, 0]\n",
      "[3, 0, 4, 0, 0, 0, 0, 0, 0]\n",
      "[7, 0, 0, 0, 0, 0, 0, 0, 0]\n",
      "[0, 0, 0, 0, 2, 0, 4, 6, 0]\n",
      "[0, 3, 0, 6, 0, 2, 0, 1, 0]\n",
      "[0, 6, 7, 0, 1, 0, 0, 1, 0]\n",
      "[0, 0, 0, 2, 0, 0, 0, 0, 8]\n",
      "[0, 0, 0, 0, 3, 5, 0, 0, 0]\n",
      "[0, 0, 0, 0, 0, 0, 2, 8, 0]\n"
     ]
    }
   ],
   "source": [
    "from algorithms.FordFulkerson import WeightedGraph\n",
    "\n",
    "adjacency_matrix = [\n",
    "    [0, 5, 14, 0, 0, 0, 0, 0, 0], # s\n",
    "    [0, 0, 4, 0, 3, 0, 0, 0, 0], # a\n",
    "    [0, 0, 0, 0, 0, 7, 0, 0, 0], # b\n",
    "    [0, 0, 0, 0, 0, 0, 6, 6, 0], # c\n",
    "    [0, 0, 0, 8, 0, 0, 0, 4, 0], # d\n",
    "    [0, 6, 0, 0, 3, 0, 0, 6, 0], # e\n",
    "    [0, 0, 0, 0, 0, 0, 0, 0, 10], # f\n",
    "    [0, 0, 0, 0, 0, 0, 0, 0, 8], # g\n",
    "    [0, 0, 0, 0, 0, 0, 0, 0, 0] # t\n",
    "]\n",
    "\n",
    "graph = WeightedGraph(adjacency_matrix)\n",
    "\n",
    "\n",
    "print('source -> dest, weight')\n",
    "for src, dest, weight in sorted(graph.get_edges(), key=lambda x: x[0]):\n",
    "    print(f'{src} -> {dest}, {weight}')\n",
    "\n",
    "print('\\nadjacency matrix')\n",
    "for row in graph.adjacency_matrix:\n",
    "    print(row)\n",
    "\n",
    "source = 0 # s\n",
    "sink = 8 # t\n",
    "maxflow = graph.ford_fulkerson(source, sink)\n",
    "print(\"\\nMax Flow:\", str(maxflow))\n",
    "\n",
    "print('\\nresidual graph')\n",
    "for row in graph.adjacency_matrix:\n",
    "    print(row)"
   ]
  },
  {
   "cell_type": "code",
   "execution_count": null,
   "metadata": {},
   "outputs": [],
   "source": []
  }
 ],
 "metadata": {
  "kernelspec": {
   "display_name": "Python 3",
   "language": "python",
   "name": "python3"
  },
  "language_info": {
   "codemirror_mode": {
    "name": "ipython",
    "version": 3
   },
   "file_extension": ".py",
   "mimetype": "text/x-python",
   "name": "python",
   "nbconvert_exporter": "python",
   "pygments_lexer": "ipython3",
   "version": "3.7.6"
  },
  "toc-autonumbering": true,
  "toc-showcode": false,
  "toc-showmarkdowntxt": false,
  "toc-showtags": false
 },
 "nbformat": 4,
 "nbformat_minor": 4
}
